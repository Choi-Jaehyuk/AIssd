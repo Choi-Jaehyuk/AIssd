{
  "nbformat": 4,
  "nbformat_minor": 0,
  "metadata": {
    "colab": {
      "name": "딥러닝응용_실습1_문자및이미지인식응용.ipynb",
      "provenance": [],
      "collapsed_sections": [],
      "include_colab_link": true
    },
    "kernelspec": {
      "name": "python3",
      "display_name": "Python 3"
    },
    "accelerator": "GPU",
    "widgets": {
      "application/vnd.jupyter.widget-state+json": {
        "cb2fd550bc5b4d48ab6a38dfefed812f": {
          "model_module": "@jupyter-widgets/controls",
          "model_name": "HBoxModel",
          "model_module_version": "1.5.0",
          "state": {
            "_dom_classes": [],
            "_model_module": "@jupyter-widgets/controls",
            "_model_module_version": "1.5.0",
            "_model_name": "HBoxModel",
            "_view_count": null,
            "_view_module": "@jupyter-widgets/controls",
            "_view_module_version": "1.5.0",
            "_view_name": "HBoxView",
            "box_style": "",
            "children": [
              "IPY_MODEL_0a4523195ef74fef973aedcb8fd4f510",
              "IPY_MODEL_b3eb448b17ee41bea01c9c9f61448e43",
              "IPY_MODEL_ecb288276fd34e6baaf81c9f1da92905"
            ],
            "layout": "IPY_MODEL_313c46a29a2e4c4193ea05c73cbbe25c"
          }
        },
        "0a4523195ef74fef973aedcb8fd4f510": {
          "model_module": "@jupyter-widgets/controls",
          "model_name": "HTMLModel",
          "model_module_version": "1.5.0",
          "state": {
            "_dom_classes": [],
            "_model_module": "@jupyter-widgets/controls",
            "_model_module_version": "1.5.0",
            "_model_name": "HTMLModel",
            "_view_count": null,
            "_view_module": "@jupyter-widgets/controls",
            "_view_module_version": "1.5.0",
            "_view_name": "HTMLView",
            "description": "",
            "description_tooltip": null,
            "layout": "IPY_MODEL_a1e3e3da71404ed6a4aa32a37c890fb1",
            "placeholder": "​",
            "style": "IPY_MODEL_a6ad5c916de2456b9223428ecc67c2fd",
            "value": ""
          }
        },
        "b3eb448b17ee41bea01c9c9f61448e43": {
          "model_module": "@jupyter-widgets/controls",
          "model_name": "FloatProgressModel",
          "model_module_version": "1.5.0",
          "state": {
            "_dom_classes": [],
            "_model_module": "@jupyter-widgets/controls",
            "_model_module_version": "1.5.0",
            "_model_name": "FloatProgressModel",
            "_view_count": null,
            "_view_module": "@jupyter-widgets/controls",
            "_view_module_version": "1.5.0",
            "_view_name": "ProgressView",
            "bar_style": "success",
            "description": "",
            "description_tooltip": null,
            "layout": "IPY_MODEL_9da5fbd3f2af43ab99788b83370ebac3",
            "max": 9912422,
            "min": 0,
            "orientation": "horizontal",
            "style": "IPY_MODEL_641244b29f7040edb5e065e640eae453",
            "value": 9912422
          }
        },
        "ecb288276fd34e6baaf81c9f1da92905": {
          "model_module": "@jupyter-widgets/controls",
          "model_name": "HTMLModel",
          "model_module_version": "1.5.0",
          "state": {
            "_dom_classes": [],
            "_model_module": "@jupyter-widgets/controls",
            "_model_module_version": "1.5.0",
            "_model_name": "HTMLModel",
            "_view_count": null,
            "_view_module": "@jupyter-widgets/controls",
            "_view_module_version": "1.5.0",
            "_view_name": "HTMLView",
            "description": "",
            "description_tooltip": null,
            "layout": "IPY_MODEL_96454d88ec4c4f278946c431b4eaa424",
            "placeholder": "​",
            "style": "IPY_MODEL_ecba6cf904d346218fb8f81de42d9303",
            "value": " 9913344/? [00:00&lt;00:00, 15459871.46it/s]"
          }
        },
        "313c46a29a2e4c4193ea05c73cbbe25c": {
          "model_module": "@jupyter-widgets/base",
          "model_name": "LayoutModel",
          "model_module_version": "1.2.0",
          "state": {
            "_model_module": "@jupyter-widgets/base",
            "_model_module_version": "1.2.0",
            "_model_name": "LayoutModel",
            "_view_count": null,
            "_view_module": "@jupyter-widgets/base",
            "_view_module_version": "1.2.0",
            "_view_name": "LayoutView",
            "align_content": null,
            "align_items": null,
            "align_self": null,
            "border": null,
            "bottom": null,
            "display": null,
            "flex": null,
            "flex_flow": null,
            "grid_area": null,
            "grid_auto_columns": null,
            "grid_auto_flow": null,
            "grid_auto_rows": null,
            "grid_column": null,
            "grid_gap": null,
            "grid_row": null,
            "grid_template_areas": null,
            "grid_template_columns": null,
            "grid_template_rows": null,
            "height": null,
            "justify_content": null,
            "justify_items": null,
            "left": null,
            "margin": null,
            "max_height": null,
            "max_width": null,
            "min_height": null,
            "min_width": null,
            "object_fit": null,
            "object_position": null,
            "order": null,
            "overflow": null,
            "overflow_x": null,
            "overflow_y": null,
            "padding": null,
            "right": null,
            "top": null,
            "visibility": null,
            "width": null
          }
        },
        "a1e3e3da71404ed6a4aa32a37c890fb1": {
          "model_module": "@jupyter-widgets/base",
          "model_name": "LayoutModel",
          "model_module_version": "1.2.0",
          "state": {
            "_model_module": "@jupyter-widgets/base",
            "_model_module_version": "1.2.0",
            "_model_name": "LayoutModel",
            "_view_count": null,
            "_view_module": "@jupyter-widgets/base",
            "_view_module_version": "1.2.0",
            "_view_name": "LayoutView",
            "align_content": null,
            "align_items": null,
            "align_self": null,
            "border": null,
            "bottom": null,
            "display": null,
            "flex": null,
            "flex_flow": null,
            "grid_area": null,
            "grid_auto_columns": null,
            "grid_auto_flow": null,
            "grid_auto_rows": null,
            "grid_column": null,
            "grid_gap": null,
            "grid_row": null,
            "grid_template_areas": null,
            "grid_template_columns": null,
            "grid_template_rows": null,
            "height": null,
            "justify_content": null,
            "justify_items": null,
            "left": null,
            "margin": null,
            "max_height": null,
            "max_width": null,
            "min_height": null,
            "min_width": null,
            "object_fit": null,
            "object_position": null,
            "order": null,
            "overflow": null,
            "overflow_x": null,
            "overflow_y": null,
            "padding": null,
            "right": null,
            "top": null,
            "visibility": null,
            "width": null
          }
        },
        "a6ad5c916de2456b9223428ecc67c2fd": {
          "model_module": "@jupyter-widgets/controls",
          "model_name": "DescriptionStyleModel",
          "model_module_version": "1.5.0",
          "state": {
            "_model_module": "@jupyter-widgets/controls",
            "_model_module_version": "1.5.0",
            "_model_name": "DescriptionStyleModel",
            "_view_count": null,
            "_view_module": "@jupyter-widgets/base",
            "_view_module_version": "1.2.0",
            "_view_name": "StyleView",
            "description_width": ""
          }
        },
        "9da5fbd3f2af43ab99788b83370ebac3": {
          "model_module": "@jupyter-widgets/base",
          "model_name": "LayoutModel",
          "model_module_version": "1.2.0",
          "state": {
            "_model_module": "@jupyter-widgets/base",
            "_model_module_version": "1.2.0",
            "_model_name": "LayoutModel",
            "_view_count": null,
            "_view_module": "@jupyter-widgets/base",
            "_view_module_version": "1.2.0",
            "_view_name": "LayoutView",
            "align_content": null,
            "align_items": null,
            "align_self": null,
            "border": null,
            "bottom": null,
            "display": null,
            "flex": null,
            "flex_flow": null,
            "grid_area": null,
            "grid_auto_columns": null,
            "grid_auto_flow": null,
            "grid_auto_rows": null,
            "grid_column": null,
            "grid_gap": null,
            "grid_row": null,
            "grid_template_areas": null,
            "grid_template_columns": null,
            "grid_template_rows": null,
            "height": null,
            "justify_content": null,
            "justify_items": null,
            "left": null,
            "margin": null,
            "max_height": null,
            "max_width": null,
            "min_height": null,
            "min_width": null,
            "object_fit": null,
            "object_position": null,
            "order": null,
            "overflow": null,
            "overflow_x": null,
            "overflow_y": null,
            "padding": null,
            "right": null,
            "top": null,
            "visibility": null,
            "width": null
          }
        },
        "641244b29f7040edb5e065e640eae453": {
          "model_module": "@jupyter-widgets/controls",
          "model_name": "ProgressStyleModel",
          "model_module_version": "1.5.0",
          "state": {
            "_model_module": "@jupyter-widgets/controls",
            "_model_module_version": "1.5.0",
            "_model_name": "ProgressStyleModel",
            "_view_count": null,
            "_view_module": "@jupyter-widgets/base",
            "_view_module_version": "1.2.0",
            "_view_name": "StyleView",
            "bar_color": null,
            "description_width": ""
          }
        },
        "96454d88ec4c4f278946c431b4eaa424": {
          "model_module": "@jupyter-widgets/base",
          "model_name": "LayoutModel",
          "model_module_version": "1.2.0",
          "state": {
            "_model_module": "@jupyter-widgets/base",
            "_model_module_version": "1.2.0",
            "_model_name": "LayoutModel",
            "_view_count": null,
            "_view_module": "@jupyter-widgets/base",
            "_view_module_version": "1.2.0",
            "_view_name": "LayoutView",
            "align_content": null,
            "align_items": null,
            "align_self": null,
            "border": null,
            "bottom": null,
            "display": null,
            "flex": null,
            "flex_flow": null,
            "grid_area": null,
            "grid_auto_columns": null,
            "grid_auto_flow": null,
            "grid_auto_rows": null,
            "grid_column": null,
            "grid_gap": null,
            "grid_row": null,
            "grid_template_areas": null,
            "grid_template_columns": null,
            "grid_template_rows": null,
            "height": null,
            "justify_content": null,
            "justify_items": null,
            "left": null,
            "margin": null,
            "max_height": null,
            "max_width": null,
            "min_height": null,
            "min_width": null,
            "object_fit": null,
            "object_position": null,
            "order": null,
            "overflow": null,
            "overflow_x": null,
            "overflow_y": null,
            "padding": null,
            "right": null,
            "top": null,
            "visibility": null,
            "width": null
          }
        },
        "ecba6cf904d346218fb8f81de42d9303": {
          "model_module": "@jupyter-widgets/controls",
          "model_name": "DescriptionStyleModel",
          "model_module_version": "1.5.0",
          "state": {
            "_model_module": "@jupyter-widgets/controls",
            "_model_module_version": "1.5.0",
            "_model_name": "DescriptionStyleModel",
            "_view_count": null,
            "_view_module": "@jupyter-widgets/base",
            "_view_module_version": "1.2.0",
            "_view_name": "StyleView",
            "description_width": ""
          }
        },
        "7bf322464aa649c0b0ae6bde0a6dec52": {
          "model_module": "@jupyter-widgets/controls",
          "model_name": "HBoxModel",
          "model_module_version": "1.5.0",
          "state": {
            "_dom_classes": [],
            "_model_module": "@jupyter-widgets/controls",
            "_model_module_version": "1.5.0",
            "_model_name": "HBoxModel",
            "_view_count": null,
            "_view_module": "@jupyter-widgets/controls",
            "_view_module_version": "1.5.0",
            "_view_name": "HBoxView",
            "box_style": "",
            "children": [
              "IPY_MODEL_f0d89b86d50c40258419e4d63144cf8d",
              "IPY_MODEL_167e6bb3a9a3471e986edea86ba3c89c",
              "IPY_MODEL_28b892526638456c9d173d53317d092e"
            ],
            "layout": "IPY_MODEL_5681920423324898b126d9767999c4d5"
          }
        },
        "f0d89b86d50c40258419e4d63144cf8d": {
          "model_module": "@jupyter-widgets/controls",
          "model_name": "HTMLModel",
          "model_module_version": "1.5.0",
          "state": {
            "_dom_classes": [],
            "_model_module": "@jupyter-widgets/controls",
            "_model_module_version": "1.5.0",
            "_model_name": "HTMLModel",
            "_view_count": null,
            "_view_module": "@jupyter-widgets/controls",
            "_view_module_version": "1.5.0",
            "_view_name": "HTMLView",
            "description": "",
            "description_tooltip": null,
            "layout": "IPY_MODEL_1b8475d58a274b648fdd07926aaff78e",
            "placeholder": "​",
            "style": "IPY_MODEL_b05b7e88e1e249a4afb92b8b9f479cd6",
            "value": ""
          }
        },
        "167e6bb3a9a3471e986edea86ba3c89c": {
          "model_module": "@jupyter-widgets/controls",
          "model_name": "FloatProgressModel",
          "model_module_version": "1.5.0",
          "state": {
            "_dom_classes": [],
            "_model_module": "@jupyter-widgets/controls",
            "_model_module_version": "1.5.0",
            "_model_name": "FloatProgressModel",
            "_view_count": null,
            "_view_module": "@jupyter-widgets/controls",
            "_view_module_version": "1.5.0",
            "_view_name": "ProgressView",
            "bar_style": "success",
            "description": "",
            "description_tooltip": null,
            "layout": "IPY_MODEL_c15d60530885435bbcadc8968202ff8b",
            "max": 28881,
            "min": 0,
            "orientation": "horizontal",
            "style": "IPY_MODEL_bef8670321c449ba94678fd18d4f13be",
            "value": 28881
          }
        },
        "28b892526638456c9d173d53317d092e": {
          "model_module": "@jupyter-widgets/controls",
          "model_name": "HTMLModel",
          "model_module_version": "1.5.0",
          "state": {
            "_dom_classes": [],
            "_model_module": "@jupyter-widgets/controls",
            "_model_module_version": "1.5.0",
            "_model_name": "HTMLModel",
            "_view_count": null,
            "_view_module": "@jupyter-widgets/controls",
            "_view_module_version": "1.5.0",
            "_view_name": "HTMLView",
            "description": "",
            "description_tooltip": null,
            "layout": "IPY_MODEL_222924adf2034313a3fc186e98695554",
            "placeholder": "​",
            "style": "IPY_MODEL_f6249224875e4283aacca09553dabde3",
            "value": " 29696/? [00:00&lt;00:00, 779188.44it/s]"
          }
        },
        "5681920423324898b126d9767999c4d5": {
          "model_module": "@jupyter-widgets/base",
          "model_name": "LayoutModel",
          "model_module_version": "1.2.0",
          "state": {
            "_model_module": "@jupyter-widgets/base",
            "_model_module_version": "1.2.0",
            "_model_name": "LayoutModel",
            "_view_count": null,
            "_view_module": "@jupyter-widgets/base",
            "_view_module_version": "1.2.0",
            "_view_name": "LayoutView",
            "align_content": null,
            "align_items": null,
            "align_self": null,
            "border": null,
            "bottom": null,
            "display": null,
            "flex": null,
            "flex_flow": null,
            "grid_area": null,
            "grid_auto_columns": null,
            "grid_auto_flow": null,
            "grid_auto_rows": null,
            "grid_column": null,
            "grid_gap": null,
            "grid_row": null,
            "grid_template_areas": null,
            "grid_template_columns": null,
            "grid_template_rows": null,
            "height": null,
            "justify_content": null,
            "justify_items": null,
            "left": null,
            "margin": null,
            "max_height": null,
            "max_width": null,
            "min_height": null,
            "min_width": null,
            "object_fit": null,
            "object_position": null,
            "order": null,
            "overflow": null,
            "overflow_x": null,
            "overflow_y": null,
            "padding": null,
            "right": null,
            "top": null,
            "visibility": null,
            "width": null
          }
        },
        "1b8475d58a274b648fdd07926aaff78e": {
          "model_module": "@jupyter-widgets/base",
          "model_name": "LayoutModel",
          "model_module_version": "1.2.0",
          "state": {
            "_model_module": "@jupyter-widgets/base",
            "_model_module_version": "1.2.0",
            "_model_name": "LayoutModel",
            "_view_count": null,
            "_view_module": "@jupyter-widgets/base",
            "_view_module_version": "1.2.0",
            "_view_name": "LayoutView",
            "align_content": null,
            "align_items": null,
            "align_self": null,
            "border": null,
            "bottom": null,
            "display": null,
            "flex": null,
            "flex_flow": null,
            "grid_area": null,
            "grid_auto_columns": null,
            "grid_auto_flow": null,
            "grid_auto_rows": null,
            "grid_column": null,
            "grid_gap": null,
            "grid_row": null,
            "grid_template_areas": null,
            "grid_template_columns": null,
            "grid_template_rows": null,
            "height": null,
            "justify_content": null,
            "justify_items": null,
            "left": null,
            "margin": null,
            "max_height": null,
            "max_width": null,
            "min_height": null,
            "min_width": null,
            "object_fit": null,
            "object_position": null,
            "order": null,
            "overflow": null,
            "overflow_x": null,
            "overflow_y": null,
            "padding": null,
            "right": null,
            "top": null,
            "visibility": null,
            "width": null
          }
        },
        "b05b7e88e1e249a4afb92b8b9f479cd6": {
          "model_module": "@jupyter-widgets/controls",
          "model_name": "DescriptionStyleModel",
          "model_module_version": "1.5.0",
          "state": {
            "_model_module": "@jupyter-widgets/controls",
            "_model_module_version": "1.5.0",
            "_model_name": "DescriptionStyleModel",
            "_view_count": null,
            "_view_module": "@jupyter-widgets/base",
            "_view_module_version": "1.2.0",
            "_view_name": "StyleView",
            "description_width": ""
          }
        },
        "c15d60530885435bbcadc8968202ff8b": {
          "model_module": "@jupyter-widgets/base",
          "model_name": "LayoutModel",
          "model_module_version": "1.2.0",
          "state": {
            "_model_module": "@jupyter-widgets/base",
            "_model_module_version": "1.2.0",
            "_model_name": "LayoutModel",
            "_view_count": null,
            "_view_module": "@jupyter-widgets/base",
            "_view_module_version": "1.2.0",
            "_view_name": "LayoutView",
            "align_content": null,
            "align_items": null,
            "align_self": null,
            "border": null,
            "bottom": null,
            "display": null,
            "flex": null,
            "flex_flow": null,
            "grid_area": null,
            "grid_auto_columns": null,
            "grid_auto_flow": null,
            "grid_auto_rows": null,
            "grid_column": null,
            "grid_gap": null,
            "grid_row": null,
            "grid_template_areas": null,
            "grid_template_columns": null,
            "grid_template_rows": null,
            "height": null,
            "justify_content": null,
            "justify_items": null,
            "left": null,
            "margin": null,
            "max_height": null,
            "max_width": null,
            "min_height": null,
            "min_width": null,
            "object_fit": null,
            "object_position": null,
            "order": null,
            "overflow": null,
            "overflow_x": null,
            "overflow_y": null,
            "padding": null,
            "right": null,
            "top": null,
            "visibility": null,
            "width": null
          }
        },
        "bef8670321c449ba94678fd18d4f13be": {
          "model_module": "@jupyter-widgets/controls",
          "model_name": "ProgressStyleModel",
          "model_module_version": "1.5.0",
          "state": {
            "_model_module": "@jupyter-widgets/controls",
            "_model_module_version": "1.5.0",
            "_model_name": "ProgressStyleModel",
            "_view_count": null,
            "_view_module": "@jupyter-widgets/base",
            "_view_module_version": "1.2.0",
            "_view_name": "StyleView",
            "bar_color": null,
            "description_width": ""
          }
        },
        "222924adf2034313a3fc186e98695554": {
          "model_module": "@jupyter-widgets/base",
          "model_name": "LayoutModel",
          "model_module_version": "1.2.0",
          "state": {
            "_model_module": "@jupyter-widgets/base",
            "_model_module_version": "1.2.0",
            "_model_name": "LayoutModel",
            "_view_count": null,
            "_view_module": "@jupyter-widgets/base",
            "_view_module_version": "1.2.0",
            "_view_name": "LayoutView",
            "align_content": null,
            "align_items": null,
            "align_self": null,
            "border": null,
            "bottom": null,
            "display": null,
            "flex": null,
            "flex_flow": null,
            "grid_area": null,
            "grid_auto_columns": null,
            "grid_auto_flow": null,
            "grid_auto_rows": null,
            "grid_column": null,
            "grid_gap": null,
            "grid_row": null,
            "grid_template_areas": null,
            "grid_template_columns": null,
            "grid_template_rows": null,
            "height": null,
            "justify_content": null,
            "justify_items": null,
            "left": null,
            "margin": null,
            "max_height": null,
            "max_width": null,
            "min_height": null,
            "min_width": null,
            "object_fit": null,
            "object_position": null,
            "order": null,
            "overflow": null,
            "overflow_x": null,
            "overflow_y": null,
            "padding": null,
            "right": null,
            "top": null,
            "visibility": null,
            "width": null
          }
        },
        "f6249224875e4283aacca09553dabde3": {
          "model_module": "@jupyter-widgets/controls",
          "model_name": "DescriptionStyleModel",
          "model_module_version": "1.5.0",
          "state": {
            "_model_module": "@jupyter-widgets/controls",
            "_model_module_version": "1.5.0",
            "_model_name": "DescriptionStyleModel",
            "_view_count": null,
            "_view_module": "@jupyter-widgets/base",
            "_view_module_version": "1.2.0",
            "_view_name": "StyleView",
            "description_width": ""
          }
        },
        "41374a70d9fb4a81bc5b15783ddabd24": {
          "model_module": "@jupyter-widgets/controls",
          "model_name": "HBoxModel",
          "model_module_version": "1.5.0",
          "state": {
            "_dom_classes": [],
            "_model_module": "@jupyter-widgets/controls",
            "_model_module_version": "1.5.0",
            "_model_name": "HBoxModel",
            "_view_count": null,
            "_view_module": "@jupyter-widgets/controls",
            "_view_module_version": "1.5.0",
            "_view_name": "HBoxView",
            "box_style": "",
            "children": [
              "IPY_MODEL_f5bdd2e6c7bd4007b9636f4acc46172c",
              "IPY_MODEL_341923edfe8c437aadd3740feca7f9c7",
              "IPY_MODEL_7ed94f8f37804a0883c3f17f08367a60"
            ],
            "layout": "IPY_MODEL_9295d317ffed4100a50d9826275e093b"
          }
        },
        "f5bdd2e6c7bd4007b9636f4acc46172c": {
          "model_module": "@jupyter-widgets/controls",
          "model_name": "HTMLModel",
          "model_module_version": "1.5.0",
          "state": {
            "_dom_classes": [],
            "_model_module": "@jupyter-widgets/controls",
            "_model_module_version": "1.5.0",
            "_model_name": "HTMLModel",
            "_view_count": null,
            "_view_module": "@jupyter-widgets/controls",
            "_view_module_version": "1.5.0",
            "_view_name": "HTMLView",
            "description": "",
            "description_tooltip": null,
            "layout": "IPY_MODEL_aecd011499594d86b7ad7c450f0c8f2a",
            "placeholder": "​",
            "style": "IPY_MODEL_9f23847db9a0440bb7945de63a0e9278",
            "value": ""
          }
        },
        "341923edfe8c437aadd3740feca7f9c7": {
          "model_module": "@jupyter-widgets/controls",
          "model_name": "FloatProgressModel",
          "model_module_version": "1.5.0",
          "state": {
            "_dom_classes": [],
            "_model_module": "@jupyter-widgets/controls",
            "_model_module_version": "1.5.0",
            "_model_name": "FloatProgressModel",
            "_view_count": null,
            "_view_module": "@jupyter-widgets/controls",
            "_view_module_version": "1.5.0",
            "_view_name": "ProgressView",
            "bar_style": "success",
            "description": "",
            "description_tooltip": null,
            "layout": "IPY_MODEL_31f945abd7d848a0a6218883b3e1cc47",
            "max": 1648877,
            "min": 0,
            "orientation": "horizontal",
            "style": "IPY_MODEL_60f19e890dae4e9faea71acf3d521778",
            "value": 1648877
          }
        },
        "7ed94f8f37804a0883c3f17f08367a60": {
          "model_module": "@jupyter-widgets/controls",
          "model_name": "HTMLModel",
          "model_module_version": "1.5.0",
          "state": {
            "_dom_classes": [],
            "_model_module": "@jupyter-widgets/controls",
            "_model_module_version": "1.5.0",
            "_model_name": "HTMLModel",
            "_view_count": null,
            "_view_module": "@jupyter-widgets/controls",
            "_view_module_version": "1.5.0",
            "_view_name": "HTMLView",
            "description": "",
            "description_tooltip": null,
            "layout": "IPY_MODEL_edaab8a3e3e54d59b2b029b95978e814",
            "placeholder": "​",
            "style": "IPY_MODEL_a40e0dc5e2674e63bc77a07b7c166881",
            "value": " 1649664/? [00:00&lt;00:00, 19706510.50it/s]"
          }
        },
        "9295d317ffed4100a50d9826275e093b": {
          "model_module": "@jupyter-widgets/base",
          "model_name": "LayoutModel",
          "model_module_version": "1.2.0",
          "state": {
            "_model_module": "@jupyter-widgets/base",
            "_model_module_version": "1.2.0",
            "_model_name": "LayoutModel",
            "_view_count": null,
            "_view_module": "@jupyter-widgets/base",
            "_view_module_version": "1.2.0",
            "_view_name": "LayoutView",
            "align_content": null,
            "align_items": null,
            "align_self": null,
            "border": null,
            "bottom": null,
            "display": null,
            "flex": null,
            "flex_flow": null,
            "grid_area": null,
            "grid_auto_columns": null,
            "grid_auto_flow": null,
            "grid_auto_rows": null,
            "grid_column": null,
            "grid_gap": null,
            "grid_row": null,
            "grid_template_areas": null,
            "grid_template_columns": null,
            "grid_template_rows": null,
            "height": null,
            "justify_content": null,
            "justify_items": null,
            "left": null,
            "margin": null,
            "max_height": null,
            "max_width": null,
            "min_height": null,
            "min_width": null,
            "object_fit": null,
            "object_position": null,
            "order": null,
            "overflow": null,
            "overflow_x": null,
            "overflow_y": null,
            "padding": null,
            "right": null,
            "top": null,
            "visibility": null,
            "width": null
          }
        },
        "aecd011499594d86b7ad7c450f0c8f2a": {
          "model_module": "@jupyter-widgets/base",
          "model_name": "LayoutModel",
          "model_module_version": "1.2.0",
          "state": {
            "_model_module": "@jupyter-widgets/base",
            "_model_module_version": "1.2.0",
            "_model_name": "LayoutModel",
            "_view_count": null,
            "_view_module": "@jupyter-widgets/base",
            "_view_module_version": "1.2.0",
            "_view_name": "LayoutView",
            "align_content": null,
            "align_items": null,
            "align_self": null,
            "border": null,
            "bottom": null,
            "display": null,
            "flex": null,
            "flex_flow": null,
            "grid_area": null,
            "grid_auto_columns": null,
            "grid_auto_flow": null,
            "grid_auto_rows": null,
            "grid_column": null,
            "grid_gap": null,
            "grid_row": null,
            "grid_template_areas": null,
            "grid_template_columns": null,
            "grid_template_rows": null,
            "height": null,
            "justify_content": null,
            "justify_items": null,
            "left": null,
            "margin": null,
            "max_height": null,
            "max_width": null,
            "min_height": null,
            "min_width": null,
            "object_fit": null,
            "object_position": null,
            "order": null,
            "overflow": null,
            "overflow_x": null,
            "overflow_y": null,
            "padding": null,
            "right": null,
            "top": null,
            "visibility": null,
            "width": null
          }
        },
        "9f23847db9a0440bb7945de63a0e9278": {
          "model_module": "@jupyter-widgets/controls",
          "model_name": "DescriptionStyleModel",
          "model_module_version": "1.5.0",
          "state": {
            "_model_module": "@jupyter-widgets/controls",
            "_model_module_version": "1.5.0",
            "_model_name": "DescriptionStyleModel",
            "_view_count": null,
            "_view_module": "@jupyter-widgets/base",
            "_view_module_version": "1.2.0",
            "_view_name": "StyleView",
            "description_width": ""
          }
        },
        "31f945abd7d848a0a6218883b3e1cc47": {
          "model_module": "@jupyter-widgets/base",
          "model_name": "LayoutModel",
          "model_module_version": "1.2.0",
          "state": {
            "_model_module": "@jupyter-widgets/base",
            "_model_module_version": "1.2.0",
            "_model_name": "LayoutModel",
            "_view_count": null,
            "_view_module": "@jupyter-widgets/base",
            "_view_module_version": "1.2.0",
            "_view_name": "LayoutView",
            "align_content": null,
            "align_items": null,
            "align_self": null,
            "border": null,
            "bottom": null,
            "display": null,
            "flex": null,
            "flex_flow": null,
            "grid_area": null,
            "grid_auto_columns": null,
            "grid_auto_flow": null,
            "grid_auto_rows": null,
            "grid_column": null,
            "grid_gap": null,
            "grid_row": null,
            "grid_template_areas": null,
            "grid_template_columns": null,
            "grid_template_rows": null,
            "height": null,
            "justify_content": null,
            "justify_items": null,
            "left": null,
            "margin": null,
            "max_height": null,
            "max_width": null,
            "min_height": null,
            "min_width": null,
            "object_fit": null,
            "object_position": null,
            "order": null,
            "overflow": null,
            "overflow_x": null,
            "overflow_y": null,
            "padding": null,
            "right": null,
            "top": null,
            "visibility": null,
            "width": null
          }
        },
        "60f19e890dae4e9faea71acf3d521778": {
          "model_module": "@jupyter-widgets/controls",
          "model_name": "ProgressStyleModel",
          "model_module_version": "1.5.0",
          "state": {
            "_model_module": "@jupyter-widgets/controls",
            "_model_module_version": "1.5.0",
            "_model_name": "ProgressStyleModel",
            "_view_count": null,
            "_view_module": "@jupyter-widgets/base",
            "_view_module_version": "1.2.0",
            "_view_name": "StyleView",
            "bar_color": null,
            "description_width": ""
          }
        },
        "edaab8a3e3e54d59b2b029b95978e814": {
          "model_module": "@jupyter-widgets/base",
          "model_name": "LayoutModel",
          "model_module_version": "1.2.0",
          "state": {
            "_model_module": "@jupyter-widgets/base",
            "_model_module_version": "1.2.0",
            "_model_name": "LayoutModel",
            "_view_count": null,
            "_view_module": "@jupyter-widgets/base",
            "_view_module_version": "1.2.0",
            "_view_name": "LayoutView",
            "align_content": null,
            "align_items": null,
            "align_self": null,
            "border": null,
            "bottom": null,
            "display": null,
            "flex": null,
            "flex_flow": null,
            "grid_area": null,
            "grid_auto_columns": null,
            "grid_auto_flow": null,
            "grid_auto_rows": null,
            "grid_column": null,
            "grid_gap": null,
            "grid_row": null,
            "grid_template_areas": null,
            "grid_template_columns": null,
            "grid_template_rows": null,
            "height": null,
            "justify_content": null,
            "justify_items": null,
            "left": null,
            "margin": null,
            "max_height": null,
            "max_width": null,
            "min_height": null,
            "min_width": null,
            "object_fit": null,
            "object_position": null,
            "order": null,
            "overflow": null,
            "overflow_x": null,
            "overflow_y": null,
            "padding": null,
            "right": null,
            "top": null,
            "visibility": null,
            "width": null
          }
        },
        "a40e0dc5e2674e63bc77a07b7c166881": {
          "model_module": "@jupyter-widgets/controls",
          "model_name": "DescriptionStyleModel",
          "model_module_version": "1.5.0",
          "state": {
            "_model_module": "@jupyter-widgets/controls",
            "_model_module_version": "1.5.0",
            "_model_name": "DescriptionStyleModel",
            "_view_count": null,
            "_view_module": "@jupyter-widgets/base",
            "_view_module_version": "1.2.0",
            "_view_name": "StyleView",
            "description_width": ""
          }
        },
        "0e6005937da64aedacc07d54fe514847": {
          "model_module": "@jupyter-widgets/controls",
          "model_name": "HBoxModel",
          "model_module_version": "1.5.0",
          "state": {
            "_dom_classes": [],
            "_model_module": "@jupyter-widgets/controls",
            "_model_module_version": "1.5.0",
            "_model_name": "HBoxModel",
            "_view_count": null,
            "_view_module": "@jupyter-widgets/controls",
            "_view_module_version": "1.5.0",
            "_view_name": "HBoxView",
            "box_style": "",
            "children": [
              "IPY_MODEL_70ea0caa2d0f42d69d8f687dfa536718",
              "IPY_MODEL_b9be6105843442e28a9dd0bfdd8eaabc",
              "IPY_MODEL_779ed01615df446094e0459aa75410de"
            ],
            "layout": "IPY_MODEL_45db207114d6421abb299a1e23186681"
          }
        },
        "70ea0caa2d0f42d69d8f687dfa536718": {
          "model_module": "@jupyter-widgets/controls",
          "model_name": "HTMLModel",
          "model_module_version": "1.5.0",
          "state": {
            "_dom_classes": [],
            "_model_module": "@jupyter-widgets/controls",
            "_model_module_version": "1.5.0",
            "_model_name": "HTMLModel",
            "_view_count": null,
            "_view_module": "@jupyter-widgets/controls",
            "_view_module_version": "1.5.0",
            "_view_name": "HTMLView",
            "description": "",
            "description_tooltip": null,
            "layout": "IPY_MODEL_ad5e79552e8142588adf92697084c536",
            "placeholder": "​",
            "style": "IPY_MODEL_4e8a2ec64a5d428e8c72d4044b5cc3b3",
            "value": ""
          }
        },
        "b9be6105843442e28a9dd0bfdd8eaabc": {
          "model_module": "@jupyter-widgets/controls",
          "model_name": "FloatProgressModel",
          "model_module_version": "1.5.0",
          "state": {
            "_dom_classes": [],
            "_model_module": "@jupyter-widgets/controls",
            "_model_module_version": "1.5.0",
            "_model_name": "FloatProgressModel",
            "_view_count": null,
            "_view_module": "@jupyter-widgets/controls",
            "_view_module_version": "1.5.0",
            "_view_name": "ProgressView",
            "bar_style": "success",
            "description": "",
            "description_tooltip": null,
            "layout": "IPY_MODEL_4c1dd3f1866c4f15b64f557187279f55",
            "max": 4542,
            "min": 0,
            "orientation": "horizontal",
            "style": "IPY_MODEL_7e33c11adb0c4e9a883ca775c4fa3425",
            "value": 4542
          }
        },
        "779ed01615df446094e0459aa75410de": {
          "model_module": "@jupyter-widgets/controls",
          "model_name": "HTMLModel",
          "model_module_version": "1.5.0",
          "state": {
            "_dom_classes": [],
            "_model_module": "@jupyter-widgets/controls",
            "_model_module_version": "1.5.0",
            "_model_name": "HTMLModel",
            "_view_count": null,
            "_view_module": "@jupyter-widgets/controls",
            "_view_module_version": "1.5.0",
            "_view_name": "HTMLView",
            "description": "",
            "description_tooltip": null,
            "layout": "IPY_MODEL_0cf8d5366df34e869380f32b8415b389",
            "placeholder": "​",
            "style": "IPY_MODEL_fb90e269c7c14a469714c793e4ab0750",
            "value": " 5120/? [00:00&lt;00:00, 140100.18it/s]"
          }
        },
        "45db207114d6421abb299a1e23186681": {
          "model_module": "@jupyter-widgets/base",
          "model_name": "LayoutModel",
          "model_module_version": "1.2.0",
          "state": {
            "_model_module": "@jupyter-widgets/base",
            "_model_module_version": "1.2.0",
            "_model_name": "LayoutModel",
            "_view_count": null,
            "_view_module": "@jupyter-widgets/base",
            "_view_module_version": "1.2.0",
            "_view_name": "LayoutView",
            "align_content": null,
            "align_items": null,
            "align_self": null,
            "border": null,
            "bottom": null,
            "display": null,
            "flex": null,
            "flex_flow": null,
            "grid_area": null,
            "grid_auto_columns": null,
            "grid_auto_flow": null,
            "grid_auto_rows": null,
            "grid_column": null,
            "grid_gap": null,
            "grid_row": null,
            "grid_template_areas": null,
            "grid_template_columns": null,
            "grid_template_rows": null,
            "height": null,
            "justify_content": null,
            "justify_items": null,
            "left": null,
            "margin": null,
            "max_height": null,
            "max_width": null,
            "min_height": null,
            "min_width": null,
            "object_fit": null,
            "object_position": null,
            "order": null,
            "overflow": null,
            "overflow_x": null,
            "overflow_y": null,
            "padding": null,
            "right": null,
            "top": null,
            "visibility": null,
            "width": null
          }
        },
        "ad5e79552e8142588adf92697084c536": {
          "model_module": "@jupyter-widgets/base",
          "model_name": "LayoutModel",
          "model_module_version": "1.2.0",
          "state": {
            "_model_module": "@jupyter-widgets/base",
            "_model_module_version": "1.2.0",
            "_model_name": "LayoutModel",
            "_view_count": null,
            "_view_module": "@jupyter-widgets/base",
            "_view_module_version": "1.2.0",
            "_view_name": "LayoutView",
            "align_content": null,
            "align_items": null,
            "align_self": null,
            "border": null,
            "bottom": null,
            "display": null,
            "flex": null,
            "flex_flow": null,
            "grid_area": null,
            "grid_auto_columns": null,
            "grid_auto_flow": null,
            "grid_auto_rows": null,
            "grid_column": null,
            "grid_gap": null,
            "grid_row": null,
            "grid_template_areas": null,
            "grid_template_columns": null,
            "grid_template_rows": null,
            "height": null,
            "justify_content": null,
            "justify_items": null,
            "left": null,
            "margin": null,
            "max_height": null,
            "max_width": null,
            "min_height": null,
            "min_width": null,
            "object_fit": null,
            "object_position": null,
            "order": null,
            "overflow": null,
            "overflow_x": null,
            "overflow_y": null,
            "padding": null,
            "right": null,
            "top": null,
            "visibility": null,
            "width": null
          }
        },
        "4e8a2ec64a5d428e8c72d4044b5cc3b3": {
          "model_module": "@jupyter-widgets/controls",
          "model_name": "DescriptionStyleModel",
          "model_module_version": "1.5.0",
          "state": {
            "_model_module": "@jupyter-widgets/controls",
            "_model_module_version": "1.5.0",
            "_model_name": "DescriptionStyleModel",
            "_view_count": null,
            "_view_module": "@jupyter-widgets/base",
            "_view_module_version": "1.2.0",
            "_view_name": "StyleView",
            "description_width": ""
          }
        },
        "4c1dd3f1866c4f15b64f557187279f55": {
          "model_module": "@jupyter-widgets/base",
          "model_name": "LayoutModel",
          "model_module_version": "1.2.0",
          "state": {
            "_model_module": "@jupyter-widgets/base",
            "_model_module_version": "1.2.0",
            "_model_name": "LayoutModel",
            "_view_count": null,
            "_view_module": "@jupyter-widgets/base",
            "_view_module_version": "1.2.0",
            "_view_name": "LayoutView",
            "align_content": null,
            "align_items": null,
            "align_self": null,
            "border": null,
            "bottom": null,
            "display": null,
            "flex": null,
            "flex_flow": null,
            "grid_area": null,
            "grid_auto_columns": null,
            "grid_auto_flow": null,
            "grid_auto_rows": null,
            "grid_column": null,
            "grid_gap": null,
            "grid_row": null,
            "grid_template_areas": null,
            "grid_template_columns": null,
            "grid_template_rows": null,
            "height": null,
            "justify_content": null,
            "justify_items": null,
            "left": null,
            "margin": null,
            "max_height": null,
            "max_width": null,
            "min_height": null,
            "min_width": null,
            "object_fit": null,
            "object_position": null,
            "order": null,
            "overflow": null,
            "overflow_x": null,
            "overflow_y": null,
            "padding": null,
            "right": null,
            "top": null,
            "visibility": null,
            "width": null
          }
        },
        "7e33c11adb0c4e9a883ca775c4fa3425": {
          "model_module": "@jupyter-widgets/controls",
          "model_name": "ProgressStyleModel",
          "model_module_version": "1.5.0",
          "state": {
            "_model_module": "@jupyter-widgets/controls",
            "_model_module_version": "1.5.0",
            "_model_name": "ProgressStyleModel",
            "_view_count": null,
            "_view_module": "@jupyter-widgets/base",
            "_view_module_version": "1.2.0",
            "_view_name": "StyleView",
            "bar_color": null,
            "description_width": ""
          }
        },
        "0cf8d5366df34e869380f32b8415b389": {
          "model_module": "@jupyter-widgets/base",
          "model_name": "LayoutModel",
          "model_module_version": "1.2.0",
          "state": {
            "_model_module": "@jupyter-widgets/base",
            "_model_module_version": "1.2.0",
            "_model_name": "LayoutModel",
            "_view_count": null,
            "_view_module": "@jupyter-widgets/base",
            "_view_module_version": "1.2.0",
            "_view_name": "LayoutView",
            "align_content": null,
            "align_items": null,
            "align_self": null,
            "border": null,
            "bottom": null,
            "display": null,
            "flex": null,
            "flex_flow": null,
            "grid_area": null,
            "grid_auto_columns": null,
            "grid_auto_flow": null,
            "grid_auto_rows": null,
            "grid_column": null,
            "grid_gap": null,
            "grid_row": null,
            "grid_template_areas": null,
            "grid_template_columns": null,
            "grid_template_rows": null,
            "height": null,
            "justify_content": null,
            "justify_items": null,
            "left": null,
            "margin": null,
            "max_height": null,
            "max_width": null,
            "min_height": null,
            "min_width": null,
            "object_fit": null,
            "object_position": null,
            "order": null,
            "overflow": null,
            "overflow_x": null,
            "overflow_y": null,
            "padding": null,
            "right": null,
            "top": null,
            "visibility": null,
            "width": null
          }
        },
        "fb90e269c7c14a469714c793e4ab0750": {
          "model_module": "@jupyter-widgets/controls",
          "model_name": "DescriptionStyleModel",
          "model_module_version": "1.5.0",
          "state": {
            "_model_module": "@jupyter-widgets/controls",
            "_model_module_version": "1.5.0",
            "_model_name": "DescriptionStyleModel",
            "_view_count": null,
            "_view_module": "@jupyter-widgets/base",
            "_view_module_version": "1.2.0",
            "_view_name": "StyleView",
            "description_width": ""
          }
        }
      }
    }
  },
  "cells": [
    {
      "cell_type": "markdown",
      "metadata": {
        "id": "view-in-github",
        "colab_type": "text"
      },
      "source": [
        "<a href=\"https://colab.research.google.com/github/Choi-Jaehyuk/AIssd/blob/main/%EB%94%A5%EB%9F%AC%EB%8B%9D%EC%9D%91%EC%9A%A9_%EC%8B%A4%EC%8A%B51_%EB%AC%B8%EC%9E%90%EB%B0%8F%EC%9D%B4%EB%AF%B8%EC%A7%80%EC%9D%B8%EC%8B%9D%EC%9D%91%EC%9A%A9.ipynb\" target=\"_parent\"><img src=\"https://colab.research.google.com/assets/colab-badge.svg\" alt=\"Open In Colab\"/></a>"
      ]
    },
    {
      "cell_type": "markdown",
      "metadata": {
        "id": "TPNYshzWceDa"
      },
      "source": [
        "Pytorch implementation of image classification with Fully-connected layers"
      ]
    },
    {
      "cell_type": "markdown",
      "source": [
        "\n",
        "Implemented by June-Woo Kim, MLCL, 2022.03.28 (kaen2891@gmail.com)"
      ],
      "metadata": {
        "id": "qsurBxk7XsGX"
      }
    },
    {
      "cell_type": "markdown",
      "metadata": {
        "id": "DZC7W1XZcb2b"
      },
      "source": [
        "MNIST 손글자 데이터를 인식하기 위한 이미지 분류 딥러닝 예제"
      ]
    },
    {
      "cell_type": "markdown",
      "source": [
        "라이브러리 셋업 1"
      ],
      "metadata": {
        "id": "iieYumbrYEHK"
      }
    },
    {
      "cell_type": "code",
      "metadata": {
        "id": "ARS7dvHecgNc",
        "colab": {
          "base_uri": "https://localhost:8080/"
        },
        "outputId": "ec83d17e-7807-4313-9ae2-cd2678c16100"
      },
      "source": [
        "import torch #pytorch 사용\n",
        "import torch.nn as nn # neural network library from pytorch 사용\n",
        "import torch.nn.functional as F # pytorch 내부의 F 함수 사용\n",
        "import torch.optim as optim # optimizer 사용\n",
        "from torchvision import datasets, transforms # 데이터셋을 가져오기 위한 라이브러리\n",
        "from torch.autograd import Variable \n",
        "import matplotlib.pyplot as plt # 시각화를 위한 matplotlib 사용\n",
        "import numpy as np #matrix 계산을 하기 위한 numpy 사용\n",
        "print('Pytorch version is ',torch.__version__) # 현재 사용하는 pytorch 버전 출력"
      ],
      "execution_count": 1,
      "outputs": [
        {
          "output_type": "stream",
          "name": "stdout",
          "text": [
            "Pytorch version is  1.10.0+cu111\n"
          ]
        }
      ]
    },
    {
      "cell_type": "markdown",
      "source": [
        "Seed 설정. 이를 통해서 매번 같은 결과 값이 나오기 위한 deterministic 한 code"
      ],
      "metadata": {
        "id": "luls-cZ0Y4Us"
      }
    },
    {
      "cell_type": "code",
      "source": [
        "random_seed = 2891\n",
        "torch.manual_seed(random_seed)\n",
        "torch.cuda.manual_seed(random_seed)\n",
        "torch.cuda.manual_seed_all(random_seed) # if use multi-GPU\n",
        "torch.backends.cudnn.deterministic = True\n",
        "torch.backends.cudnn.benchmark = False\n",
        "np.random.seed(random_seed)\n",
        "import random\n",
        "random.seed(random_seed)"
      ],
      "metadata": {
        "id": "UchH6dOpYUr2"
      },
      "execution_count": 2,
      "outputs": []
    },
    {
      "cell_type": "markdown",
      "source": [
        "GPU 셋업. 정확히 출력 되는지 확인"
      ],
      "metadata": {
        "id": "zxYIj0DZZFDu"
      }
    },
    {
      "cell_type": "code",
      "source": [
        "device = torch.device('cuda' if torch.cuda.is_available() else 'cpu') #GPU를 사용하기 위해서는 cuda로 설정해주어야 함\n",
        "\n",
        "print('our device is', device) # 우리가 현재 사용하는 device는 cuda인가 cpu인가?"
      ],
      "metadata": {
        "colab": {
          "base_uri": "https://localhost:8080/"
        },
        "id": "4jSBoMl2YgKa",
        "outputId": "d82d2d36-dd56-4371-ba66-67f9dd43a0f3"
      },
      "execution_count": 3,
      "outputs": [
        {
          "output_type": "stream",
          "name": "stdout",
          "text": [
            "our device is cuda\n"
          ]
        }
      ]
    },
    {
      "cell_type": "markdown",
      "metadata": {
        "id": "AK8w7_cpcnAP"
      },
      "source": [
        "Multi-layer Perceptron (MLP)"
      ]
    },
    {
      "cell_type": "markdown",
      "source": [
        "다층 퍼셉트론 네트워크"
      ],
      "metadata": {
        "id": "vsEe4QA1bkCe"
      }
    },
    {
      "cell_type": "code",
      "metadata": {
        "id": "XWLI5amMcr-e"
      },
      "source": [
        "class MLP(nn.Module):\n",
        "    def __init__(self, num_class, drop_prob):\n",
        "        super(MLP, self).__init__()\n",
        "        # input is 28x28\n",
        "        # need for flatten ==> 784\n",
        "        self.dropout = nn.Dropout(p=drop_prob)\n",
        "        self.linear1 = nn.Linear(784, 128) # 첫 번째 layer의 hidden size를 784로 input으로 받고, 128을 출력 hidden으로 emit\n",
        "        self.linear2 = nn.Linear(128, 64) # 두 번째 layer의 hidden size를 128로 input으로 받고, 64를 출력 hidden으로 emit\n",
        "        '''\n",
        "        Analysis1. linear1과 linear2 layer의 hidden size를 변경하면서 layer를 더 쌓아서 분석\n",
        "        '''\n",
        "        self.reduce_layer = nn.Linear(64, num_class) # 마지막 hidden size를 입력으로 받은 뒤 num_class 만큼 (클래스 개수) 줄임\n",
        "        self.logsoftmax = nn.LogSoftmax(dim=1)\n",
        "       \n",
        "    def forward(self, x): \n",
        "        # need for flatten ==> 784\n",
        "        x = self.dropout(F.relu(self.linear1(x.view(-1, 784)))) #x는 1 * 28 * 28의 크기인데, Fully-connected layer를 사용하기 위해서는 다 펴주어야 함. 즉 flatten을 시켜서 784로 만들어야 함. 이를 위해 pytorch의 view 함수를 사용함\n",
        "        # Q1. 위를 거친 x의 output size는?\n",
        "        # 힌트: print(x.size())\n",
        "        x = self.dropout(F.relu(self.linear2(x)))\n",
        "        # Q2. 위를 거친 x의 output size는?\n",
        "        '''\n",
        "        Analysis2. linear1과 linear2 layer의 hidden size를 변경하면서 layer를 더 쌓아서 분석하기. 위에서 추가한 layer를 여기에서 입력으로 넣음\n",
        "        '''\n",
        "        output = self.reduce_layer(x)\n",
        "        # Q3. 마지막 output layer를 거친 x의 size는?\n",
        "\n",
        "        return self.logsoftmax(output) #log softmax 함수 사용, 왜 log softmax를 사용하는가? 링크 참조: https://junstar92.tistory.com/118"
      ],
      "execution_count": 4,
      "outputs": []
    },
    {
      "cell_type": "markdown",
      "metadata": {
        "id": "2dRNDndkdlcb"
      },
      "source": [
        "모델 호출 및 gpu에 설정"
      ]
    },
    {
      "cell_type": "code",
      "metadata": {
        "id": "dcVpVcNteFUh",
        "colab": {
          "base_uri": "https://localhost:8080/"
        },
        "outputId": "8b686cb4-120f-4835-90c8-2440d2947849"
      },
      "source": [
        "model = MLP(10, 0.3)\n",
        "model.to(device)"
      ],
      "execution_count": 5,
      "outputs": [
        {
          "output_type": "execute_result",
          "data": {
            "text/plain": [
              "MLP(\n",
              "  (dropout): Dropout(p=0.3, inplace=False)\n",
              "  (linear1): Linear(in_features=784, out_features=128, bias=True)\n",
              "  (linear2): Linear(in_features=128, out_features=64, bias=True)\n",
              "  (reduce_layer): Linear(in_features=64, out_features=10, bias=True)\n",
              "  (logsoftmax): LogSoftmax(dim=1)\n",
              ")"
            ]
          },
          "metadata": {},
          "execution_count": 5
        }
      ]
    },
    {
      "cell_type": "markdown",
      "source": [
        "모델이 어떻게 구성되어있는지 확인"
      ],
      "metadata": {
        "id": "eZV3eoMmb0Ga"
      }
    },
    {
      "cell_type": "code",
      "metadata": {
        "colab": {
          "base_uri": "https://localhost:8080/"
        },
        "id": "c_0k0yuhdl3b",
        "outputId": "484562b7-753e-405e-f2a7-2bb91004e195"
      },
      "source": [
        "#model shape\n",
        "for p in model.parameters():\n",
        "    print(p.size())"
      ],
      "execution_count": 6,
      "outputs": [
        {
          "output_type": "stream",
          "name": "stdout",
          "text": [
            "torch.Size([128, 784])\n",
            "torch.Size([128])\n",
            "torch.Size([64, 128])\n",
            "torch.Size([64])\n",
            "torch.Size([10, 64])\n",
            "torch.Size([10])\n"
          ]
        }
      ]
    },
    {
      "cell_type": "markdown",
      "source": [
        "모델의 learnable parameter 개수 체크"
      ],
      "metadata": {
        "id": "MDQQVzfSb3uP"
      }
    },
    {
      "cell_type": "code",
      "metadata": {
        "colab": {
          "base_uri": "https://localhost:8080/"
        },
        "id": "j_ob15ajdnOm",
        "outputId": "788ad04b-db29-423e-e506-e73066f32e98"
      },
      "source": [
        "def count_parameters(model):\n",
        "    return sum(p.numel() for p in model.parameters() if p.requires_grad)\n",
        "\n",
        "model_param = count_parameters(model)\n",
        "print('learnable parameters of model == ', model_param)"
      ],
      "execution_count": 7,
      "outputs": [
        {
          "output_type": "stream",
          "name": "stdout",
          "text": [
            "learnable parameters of model ==  109386\n"
          ]
        }
      ]
    },
    {
      "cell_type": "markdown",
      "source": [
        "딥러닝 모델의 hyperparameter 설정 (batch size, learning rate)"
      ],
      "metadata": {
        "id": "h4S6GYwocHow"
      }
    },
    {
      "cell_type": "code",
      "source": [
        "batch_size = 64\n",
        "lr = 1e-5\n",
        "epochs = 5"
      ],
      "metadata": {
        "id": "W6JU7-VkcSls"
      },
      "execution_count": 8,
      "outputs": []
    },
    {
      "cell_type": "markdown",
      "metadata": {
        "id": "GKDv9BbFdpwM"
      },
      "source": [
        "MNIST 데이터 셋업 (자동 다운로드)"
      ]
    },
    {
      "cell_type": "code",
      "metadata": {
        "colab": {
          "base_uri": "https://localhost:8080/",
          "height": 474,
          "referenced_widgets": [
            "cb2fd550bc5b4d48ab6a38dfefed812f",
            "0a4523195ef74fef973aedcb8fd4f510",
            "b3eb448b17ee41bea01c9c9f61448e43",
            "ecb288276fd34e6baaf81c9f1da92905",
            "313c46a29a2e4c4193ea05c73cbbe25c",
            "a1e3e3da71404ed6a4aa32a37c890fb1",
            "a6ad5c916de2456b9223428ecc67c2fd",
            "9da5fbd3f2af43ab99788b83370ebac3",
            "641244b29f7040edb5e065e640eae453",
            "96454d88ec4c4f278946c431b4eaa424",
            "ecba6cf904d346218fb8f81de42d9303",
            "7bf322464aa649c0b0ae6bde0a6dec52",
            "f0d89b86d50c40258419e4d63144cf8d",
            "167e6bb3a9a3471e986edea86ba3c89c",
            "28b892526638456c9d173d53317d092e",
            "5681920423324898b126d9767999c4d5",
            "1b8475d58a274b648fdd07926aaff78e",
            "b05b7e88e1e249a4afb92b8b9f479cd6",
            "c15d60530885435bbcadc8968202ff8b",
            "bef8670321c449ba94678fd18d4f13be",
            "222924adf2034313a3fc186e98695554",
            "f6249224875e4283aacca09553dabde3",
            "41374a70d9fb4a81bc5b15783ddabd24",
            "f5bdd2e6c7bd4007b9636f4acc46172c",
            "341923edfe8c437aadd3740feca7f9c7",
            "7ed94f8f37804a0883c3f17f08367a60",
            "9295d317ffed4100a50d9826275e093b",
            "aecd011499594d86b7ad7c450f0c8f2a",
            "9f23847db9a0440bb7945de63a0e9278",
            "31f945abd7d848a0a6218883b3e1cc47",
            "60f19e890dae4e9faea71acf3d521778",
            "edaab8a3e3e54d59b2b029b95978e814",
            "a40e0dc5e2674e63bc77a07b7c166881",
            "0e6005937da64aedacc07d54fe514847",
            "70ea0caa2d0f42d69d8f687dfa536718",
            "b9be6105843442e28a9dd0bfdd8eaabc",
            "779ed01615df446094e0459aa75410de",
            "45db207114d6421abb299a1e23186681",
            "ad5e79552e8142588adf92697084c536",
            "4e8a2ec64a5d428e8c72d4044b5cc3b3",
            "4c1dd3f1866c4f15b64f557187279f55",
            "7e33c11adb0c4e9a883ca775c4fa3425",
            "0cf8d5366df34e869380f32b8415b389",
            "fb90e269c7c14a469714c793e4ab0750"
          ]
        },
        "id": "sEy5bssodq93",
        "outputId": "cdc8f4ae-e64e-45a9-ed52-e87515cec130"
      },
      "source": [
        "train_loader = torch.utils.data.DataLoader(datasets.MNIST('data', train=True, download=True, transform=transforms.ToTensor()),batch_size=batch_size, shuffle=True)\n",
        "print(len(train_loader)) # 938개가 나옴. 왜냐하면 MNIST training set의 갯수는 60,000개이고 batch_size가 64이므로, 60,000/64 = 937.5이며, 반올림하여 938\n",
        "test_loader = torch.utils.data.DataLoader(datasets.MNIST('data', train=False, transform=transforms.ToTensor()),batch_size=batch_size)\n",
        "print(len(test_loader)) # 157개가 나옴. 왜냐하면 MNIST test set의 갯수는 10,000개이고 batch_size가 64이므로, 10,000/64 = 156.25이며, 반올림하여 157"
      ],
      "execution_count": 9,
      "outputs": [
        {
          "output_type": "stream",
          "name": "stdout",
          "text": [
            "Downloading http://yann.lecun.com/exdb/mnist/train-images-idx3-ubyte.gz\n",
            "Downloading http://yann.lecun.com/exdb/mnist/train-images-idx3-ubyte.gz to data/MNIST/raw/train-images-idx3-ubyte.gz\n"
          ]
        },
        {
          "output_type": "display_data",
          "data": {
            "text/plain": [
              "  0%|          | 0/9912422 [00:00<?, ?it/s]"
            ],
            "application/vnd.jupyter.widget-view+json": {
              "version_major": 2,
              "version_minor": 0,
              "model_id": "cb2fd550bc5b4d48ab6a38dfefed812f"
            }
          },
          "metadata": {}
        },
        {
          "output_type": "stream",
          "name": "stdout",
          "text": [
            "Extracting data/MNIST/raw/train-images-idx3-ubyte.gz to data/MNIST/raw\n",
            "\n",
            "Downloading http://yann.lecun.com/exdb/mnist/train-labels-idx1-ubyte.gz\n",
            "Downloading http://yann.lecun.com/exdb/mnist/train-labels-idx1-ubyte.gz to data/MNIST/raw/train-labels-idx1-ubyte.gz\n"
          ]
        },
        {
          "output_type": "display_data",
          "data": {
            "text/plain": [
              "  0%|          | 0/28881 [00:00<?, ?it/s]"
            ],
            "application/vnd.jupyter.widget-view+json": {
              "version_major": 2,
              "version_minor": 0,
              "model_id": "7bf322464aa649c0b0ae6bde0a6dec52"
            }
          },
          "metadata": {}
        },
        {
          "output_type": "stream",
          "name": "stdout",
          "text": [
            "Extracting data/MNIST/raw/train-labels-idx1-ubyte.gz to data/MNIST/raw\n",
            "\n",
            "Downloading http://yann.lecun.com/exdb/mnist/t10k-images-idx3-ubyte.gz\n",
            "Downloading http://yann.lecun.com/exdb/mnist/t10k-images-idx3-ubyte.gz to data/MNIST/raw/t10k-images-idx3-ubyte.gz\n"
          ]
        },
        {
          "output_type": "display_data",
          "data": {
            "text/plain": [
              "  0%|          | 0/1648877 [00:00<?, ?it/s]"
            ],
            "application/vnd.jupyter.widget-view+json": {
              "version_major": 2,
              "version_minor": 0,
              "model_id": "41374a70d9fb4a81bc5b15783ddabd24"
            }
          },
          "metadata": {}
        },
        {
          "output_type": "stream",
          "name": "stdout",
          "text": [
            "Extracting data/MNIST/raw/t10k-images-idx3-ubyte.gz to data/MNIST/raw\n",
            "\n",
            "Downloading http://yann.lecun.com/exdb/mnist/t10k-labels-idx1-ubyte.gz\n",
            "Downloading http://yann.lecun.com/exdb/mnist/t10k-labels-idx1-ubyte.gz to data/MNIST/raw/t10k-labels-idx1-ubyte.gz\n"
          ]
        },
        {
          "output_type": "display_data",
          "data": {
            "text/plain": [
              "  0%|          | 0/4542 [00:00<?, ?it/s]"
            ],
            "application/vnd.jupyter.widget-view+json": {
              "version_major": 2,
              "version_minor": 0,
              "model_id": "0e6005937da64aedacc07d54fe514847"
            }
          },
          "metadata": {}
        },
        {
          "output_type": "stream",
          "name": "stdout",
          "text": [
            "Extracting data/MNIST/raw/t10k-labels-idx1-ubyte.gz to data/MNIST/raw\n",
            "\n",
            "938\n",
            "157\n"
          ]
        }
      ]
    },
    {
      "cell_type": "markdown",
      "metadata": {
        "id": "nrKdz4xPdshk"
      },
      "source": [
        "Optimizer 선언 (Adam 사용)"
      ]
    },
    {
      "cell_type": "code",
      "metadata": {
        "id": "MDu10gEfduVc"
      },
      "source": [
        "optimizer = optim.Adam(model.parameters(), lr=lr)"
      ],
      "execution_count": 10,
      "outputs": []
    },
    {
      "cell_type": "markdown",
      "metadata": {
        "id": "_2N1bojgdvsw"
      },
      "source": [
        "Training"
      ]
    },
    {
      "cell_type": "code",
      "metadata": {
        "id": "ntL9riPYdw-s",
        "colab": {
          "base_uri": "https://localhost:8080/"
        },
        "outputId": "82347d8c-30d2-4cbe-cace-fb6304f58a12"
      },
      "source": [
        "model.train()\n",
        "total_loss = 0\n",
        "total_acc = 0\n",
        "train_loss = []\n",
        "train_accuracy = []\n",
        "i = 1\n",
        "for epoch in range(epochs):\n",
        "    for data, target in train_loader:\n",
        "        data, target = Variable(data), Variable(target)\n",
        "        data = data.to(device)        \n",
        "       \n",
        "        target = target.to(device)\n",
        "         \n",
        "        optimizer.zero_grad()\n",
        "        output = model(data)\n",
        "       \n",
        "        loss = F.nll_loss(output, target)\n",
        "        loss.backward()    # calc gradients\n",
        "       \n",
        "        total_loss += loss.detach().cpu()\n",
        "       \n",
        "        train_loss.append(total_loss/i)\n",
        "        optimizer.step()   # update gradients\n",
        "       \n",
        "        prediction = output.data.max(1)[1]   # first column has actual prob.\n",
        "        accuracy = prediction.eq(target.data).sum()/batch_size*100\n",
        "       \n",
        "        total_acc += accuracy.detach().cpu()\n",
        "       \n",
        "        train_accuracy.append(total_acc/i)\n",
        "       \n",
        "        if i % 10 == 0:\n",
        "            print('Epoch: {}\\t Training Step: {}\\tLoss: {:.3f}\\t Training accuracy: {:.3f}'.format(epoch+1, i, loss, accuracy))\n",
        "        i += 1\n",
        "    print('Epoch: {} finished'.format(epoch+1))"
      ],
      "execution_count": 11,
      "outputs": [
        {
          "output_type": "stream",
          "name": "stdout",
          "text": [
            "Epoch: 1\t Training Step: 10\tLoss: 2.310\t Training accuracy: 4.688\n",
            "Epoch: 1\t Training Step: 20\tLoss: 2.295\t Training accuracy: 4.688\n",
            "Epoch: 1\t Training Step: 30\tLoss: 2.287\t Training accuracy: 15.625\n",
            "Epoch: 1\t Training Step: 40\tLoss: 2.299\t Training accuracy: 3.125\n",
            "Epoch: 1\t Training Step: 50\tLoss: 2.302\t Training accuracy: 6.250\n",
            "Epoch: 1\t Training Step: 60\tLoss: 2.298\t Training accuracy: 9.375\n",
            "Epoch: 1\t Training Step: 70\tLoss: 2.284\t Training accuracy: 17.188\n",
            "Epoch: 1\t Training Step: 80\tLoss: 2.302\t Training accuracy: 18.750\n",
            "Epoch: 1\t Training Step: 90\tLoss: 2.298\t Training accuracy: 12.500\n",
            "Epoch: 1\t Training Step: 100\tLoss: 2.294\t Training accuracy: 14.062\n",
            "Epoch: 1\t Training Step: 110\tLoss: 2.294\t Training accuracy: 10.938\n",
            "Epoch: 1\t Training Step: 120\tLoss: 2.311\t Training accuracy: 14.062\n",
            "Epoch: 1\t Training Step: 130\tLoss: 2.292\t Training accuracy: 6.250\n",
            "Epoch: 1\t Training Step: 140\tLoss: 2.290\t Training accuracy: 21.875\n",
            "Epoch: 1\t Training Step: 150\tLoss: 2.286\t Training accuracy: 12.500\n",
            "Epoch: 1\t Training Step: 160\tLoss: 2.276\t Training accuracy: 14.062\n",
            "Epoch: 1\t Training Step: 170\tLoss: 2.292\t Training accuracy: 12.500\n",
            "Epoch: 1\t Training Step: 180\tLoss: 2.275\t Training accuracy: 20.312\n",
            "Epoch: 1\t Training Step: 190\tLoss: 2.274\t Training accuracy: 15.625\n",
            "Epoch: 1\t Training Step: 200\tLoss: 2.263\t Training accuracy: 21.875\n",
            "Epoch: 1\t Training Step: 210\tLoss: 2.287\t Training accuracy: 10.938\n",
            "Epoch: 1\t Training Step: 220\tLoss: 2.286\t Training accuracy: 15.625\n",
            "Epoch: 1\t Training Step: 230\tLoss: 2.282\t Training accuracy: 20.312\n",
            "Epoch: 1\t Training Step: 240\tLoss: 2.262\t Training accuracy: 20.312\n",
            "Epoch: 1\t Training Step: 250\tLoss: 2.273\t Training accuracy: 14.062\n",
            "Epoch: 1\t Training Step: 260\tLoss: 2.274\t Training accuracy: 14.062\n",
            "Epoch: 1\t Training Step: 270\tLoss: 2.252\t Training accuracy: 23.438\n",
            "Epoch: 1\t Training Step: 280\tLoss: 2.259\t Training accuracy: 26.562\n",
            "Epoch: 1\t Training Step: 290\tLoss: 2.277\t Training accuracy: 23.438\n",
            "Epoch: 1\t Training Step: 300\tLoss: 2.272\t Training accuracy: 17.188\n",
            "Epoch: 1\t Training Step: 310\tLoss: 2.284\t Training accuracy: 20.312\n",
            "Epoch: 1\t Training Step: 320\tLoss: 2.255\t Training accuracy: 23.438\n",
            "Epoch: 1\t Training Step: 330\tLoss: 2.266\t Training accuracy: 23.438\n",
            "Epoch: 1\t Training Step: 340\tLoss: 2.263\t Training accuracy: 15.625\n",
            "Epoch: 1\t Training Step: 350\tLoss: 2.278\t Training accuracy: 15.625\n",
            "Epoch: 1\t Training Step: 360\tLoss: 2.255\t Training accuracy: 21.875\n",
            "Epoch: 1\t Training Step: 370\tLoss: 2.263\t Training accuracy: 29.688\n",
            "Epoch: 1\t Training Step: 380\tLoss: 2.260\t Training accuracy: 26.562\n",
            "Epoch: 1\t Training Step: 390\tLoss: 2.226\t Training accuracy: 31.250\n",
            "Epoch: 1\t Training Step: 400\tLoss: 2.267\t Training accuracy: 18.750\n",
            "Epoch: 1\t Training Step: 410\tLoss: 2.264\t Training accuracy: 14.062\n",
            "Epoch: 1\t Training Step: 420\tLoss: 2.226\t Training accuracy: 32.812\n",
            "Epoch: 1\t Training Step: 430\tLoss: 2.225\t Training accuracy: 28.125\n",
            "Epoch: 1\t Training Step: 440\tLoss: 2.227\t Training accuracy: 26.562\n",
            "Epoch: 1\t Training Step: 450\tLoss: 2.236\t Training accuracy: 28.125\n",
            "Epoch: 1\t Training Step: 460\tLoss: 2.231\t Training accuracy: 26.562\n",
            "Epoch: 1\t Training Step: 470\tLoss: 2.230\t Training accuracy: 31.250\n",
            "Epoch: 1\t Training Step: 480\tLoss: 2.229\t Training accuracy: 20.312\n",
            "Epoch: 1\t Training Step: 490\tLoss: 2.212\t Training accuracy: 35.938\n",
            "Epoch: 1\t Training Step: 500\tLoss: 2.218\t Training accuracy: 40.625\n",
            "Epoch: 1\t Training Step: 510\tLoss: 2.206\t Training accuracy: 29.688\n",
            "Epoch: 1\t Training Step: 520\tLoss: 2.232\t Training accuracy: 29.688\n",
            "Epoch: 1\t Training Step: 530\tLoss: 2.217\t Training accuracy: 32.812\n",
            "Epoch: 1\t Training Step: 540\tLoss: 2.207\t Training accuracy: 37.500\n",
            "Epoch: 1\t Training Step: 550\tLoss: 2.225\t Training accuracy: 34.375\n",
            "Epoch: 1\t Training Step: 560\tLoss: 2.207\t Training accuracy: 34.375\n",
            "Epoch: 1\t Training Step: 570\tLoss: 2.213\t Training accuracy: 32.812\n",
            "Epoch: 1\t Training Step: 580\tLoss: 2.242\t Training accuracy: 26.562\n",
            "Epoch: 1\t Training Step: 590\tLoss: 2.201\t Training accuracy: 21.875\n",
            "Epoch: 1\t Training Step: 600\tLoss: 2.177\t Training accuracy: 39.062\n",
            "Epoch: 1\t Training Step: 610\tLoss: 2.186\t Training accuracy: 42.188\n",
            "Epoch: 1\t Training Step: 620\tLoss: 2.206\t Training accuracy: 32.812\n",
            "Epoch: 1\t Training Step: 630\tLoss: 2.208\t Training accuracy: 40.625\n",
            "Epoch: 1\t Training Step: 640\tLoss: 2.194\t Training accuracy: 35.938\n",
            "Epoch: 1\t Training Step: 650\tLoss: 2.195\t Training accuracy: 42.188\n",
            "Epoch: 1\t Training Step: 660\tLoss: 2.226\t Training accuracy: 28.125\n",
            "Epoch: 1\t Training Step: 670\tLoss: 2.194\t Training accuracy: 29.688\n",
            "Epoch: 1\t Training Step: 680\tLoss: 2.187\t Training accuracy: 28.125\n",
            "Epoch: 1\t Training Step: 690\tLoss: 2.187\t Training accuracy: 35.938\n",
            "Epoch: 1\t Training Step: 700\tLoss: 2.134\t Training accuracy: 42.188\n",
            "Epoch: 1\t Training Step: 710\tLoss: 2.189\t Training accuracy: 32.812\n",
            "Epoch: 1\t Training Step: 720\tLoss: 2.179\t Training accuracy: 37.500\n",
            "Epoch: 1\t Training Step: 730\tLoss: 2.179\t Training accuracy: 34.375\n",
            "Epoch: 1\t Training Step: 740\tLoss: 2.156\t Training accuracy: 43.750\n",
            "Epoch: 1\t Training Step: 750\tLoss: 2.177\t Training accuracy: 37.500\n",
            "Epoch: 1\t Training Step: 760\tLoss: 2.108\t Training accuracy: 50.000\n",
            "Epoch: 1\t Training Step: 770\tLoss: 2.158\t Training accuracy: 35.938\n",
            "Epoch: 1\t Training Step: 780\tLoss: 2.196\t Training accuracy: 31.250\n",
            "Epoch: 1\t Training Step: 790\tLoss: 2.115\t Training accuracy: 42.188\n",
            "Epoch: 1\t Training Step: 800\tLoss: 2.151\t Training accuracy: 35.938\n",
            "Epoch: 1\t Training Step: 810\tLoss: 2.134\t Training accuracy: 43.750\n",
            "Epoch: 1\t Training Step: 820\tLoss: 2.101\t Training accuracy: 42.188\n",
            "Epoch: 1\t Training Step: 830\tLoss: 2.115\t Training accuracy: 42.188\n",
            "Epoch: 1\t Training Step: 840\tLoss: 2.156\t Training accuracy: 39.062\n",
            "Epoch: 1\t Training Step: 850\tLoss: 2.161\t Training accuracy: 40.625\n",
            "Epoch: 1\t Training Step: 860\tLoss: 2.164\t Training accuracy: 26.562\n",
            "Epoch: 1\t Training Step: 870\tLoss: 2.167\t Training accuracy: 21.875\n",
            "Epoch: 1\t Training Step: 880\tLoss: 2.172\t Training accuracy: 29.688\n",
            "Epoch: 1\t Training Step: 890\tLoss: 2.105\t Training accuracy: 35.938\n",
            "Epoch: 1\t Training Step: 900\tLoss: 2.109\t Training accuracy: 43.750\n",
            "Epoch: 1\t Training Step: 910\tLoss: 2.129\t Training accuracy: 42.188\n",
            "Epoch: 1\t Training Step: 920\tLoss: 2.120\t Training accuracy: 29.688\n",
            "Epoch: 1\t Training Step: 930\tLoss: 2.111\t Training accuracy: 39.062\n",
            "Epoch: 1 finished\n",
            "Epoch: 2\t Training Step: 940\tLoss: 2.162\t Training accuracy: 31.250\n",
            "Epoch: 2\t Training Step: 950\tLoss: 2.079\t Training accuracy: 45.312\n",
            "Epoch: 2\t Training Step: 960\tLoss: 2.080\t Training accuracy: 39.062\n",
            "Epoch: 2\t Training Step: 970\tLoss: 2.120\t Training accuracy: 40.625\n",
            "Epoch: 2\t Training Step: 980\tLoss: 2.082\t Training accuracy: 42.188\n",
            "Epoch: 2\t Training Step: 990\tLoss: 2.071\t Training accuracy: 39.062\n",
            "Epoch: 2\t Training Step: 1000\tLoss: 2.061\t Training accuracy: 46.875\n",
            "Epoch: 2\t Training Step: 1010\tLoss: 2.110\t Training accuracy: 42.188\n",
            "Epoch: 2\t Training Step: 1020\tLoss: 2.095\t Training accuracy: 37.500\n",
            "Epoch: 2\t Training Step: 1030\tLoss: 2.069\t Training accuracy: 48.438\n",
            "Epoch: 2\t Training Step: 1040\tLoss: 2.061\t Training accuracy: 39.062\n",
            "Epoch: 2\t Training Step: 1050\tLoss: 2.029\t Training accuracy: 50.000\n",
            "Epoch: 2\t Training Step: 1060\tLoss: 2.071\t Training accuracy: 50.000\n",
            "Epoch: 2\t Training Step: 1070\tLoss: 2.073\t Training accuracy: 43.750\n",
            "Epoch: 2\t Training Step: 1080\tLoss: 2.044\t Training accuracy: 57.812\n",
            "Epoch: 2\t Training Step: 1090\tLoss: 2.071\t Training accuracy: 43.750\n",
            "Epoch: 2\t Training Step: 1100\tLoss: 2.024\t Training accuracy: 50.000\n",
            "Epoch: 2\t Training Step: 1110\tLoss: 2.065\t Training accuracy: 43.750\n",
            "Epoch: 2\t Training Step: 1120\tLoss: 2.128\t Training accuracy: 34.375\n",
            "Epoch: 2\t Training Step: 1130\tLoss: 2.100\t Training accuracy: 34.375\n",
            "Epoch: 2\t Training Step: 1140\tLoss: 2.072\t Training accuracy: 46.875\n",
            "Epoch: 2\t Training Step: 1150\tLoss: 2.067\t Training accuracy: 43.750\n",
            "Epoch: 2\t Training Step: 1160\tLoss: 2.031\t Training accuracy: 46.875\n",
            "Epoch: 2\t Training Step: 1170\tLoss: 2.023\t Training accuracy: 48.438\n",
            "Epoch: 2\t Training Step: 1180\tLoss: 1.992\t Training accuracy: 54.688\n",
            "Epoch: 2\t Training Step: 1190\tLoss: 2.054\t Training accuracy: 40.625\n",
            "Epoch: 2\t Training Step: 1200\tLoss: 1.950\t Training accuracy: 54.688\n",
            "Epoch: 2\t Training Step: 1210\tLoss: 1.986\t Training accuracy: 45.312\n",
            "Epoch: 2\t Training Step: 1220\tLoss: 1.979\t Training accuracy: 46.875\n",
            "Epoch: 2\t Training Step: 1230\tLoss: 2.004\t Training accuracy: 42.188\n",
            "Epoch: 2\t Training Step: 1240\tLoss: 2.027\t Training accuracy: 48.438\n",
            "Epoch: 2\t Training Step: 1250\tLoss: 1.975\t Training accuracy: 45.312\n",
            "Epoch: 2\t Training Step: 1260\tLoss: 1.964\t Training accuracy: 51.562\n",
            "Epoch: 2\t Training Step: 1270\tLoss: 2.020\t Training accuracy: 50.000\n",
            "Epoch: 2\t Training Step: 1280\tLoss: 1.960\t Training accuracy: 43.750\n",
            "Epoch: 2\t Training Step: 1290\tLoss: 1.962\t Training accuracy: 43.750\n",
            "Epoch: 2\t Training Step: 1300\tLoss: 2.011\t Training accuracy: 45.312\n",
            "Epoch: 2\t Training Step: 1310\tLoss: 1.891\t Training accuracy: 62.500\n",
            "Epoch: 2\t Training Step: 1320\tLoss: 1.927\t Training accuracy: 57.812\n",
            "Epoch: 2\t Training Step: 1330\tLoss: 2.012\t Training accuracy: 50.000\n",
            "Epoch: 2\t Training Step: 1340\tLoss: 1.938\t Training accuracy: 43.750\n",
            "Epoch: 2\t Training Step: 1350\tLoss: 1.947\t Training accuracy: 45.312\n",
            "Epoch: 2\t Training Step: 1360\tLoss: 1.924\t Training accuracy: 57.812\n",
            "Epoch: 2\t Training Step: 1370\tLoss: 2.004\t Training accuracy: 46.875\n",
            "Epoch: 2\t Training Step: 1380\tLoss: 1.988\t Training accuracy: 37.500\n",
            "Epoch: 2\t Training Step: 1390\tLoss: 1.907\t Training accuracy: 42.188\n",
            "Epoch: 2\t Training Step: 1400\tLoss: 1.893\t Training accuracy: 50.000\n",
            "Epoch: 2\t Training Step: 1410\tLoss: 1.814\t Training accuracy: 56.250\n",
            "Epoch: 2\t Training Step: 1420\tLoss: 1.962\t Training accuracy: 51.562\n",
            "Epoch: 2\t Training Step: 1430\tLoss: 1.944\t Training accuracy: 56.250\n",
            "Epoch: 2\t Training Step: 1440\tLoss: 1.926\t Training accuracy: 57.812\n",
            "Epoch: 2\t Training Step: 1450\tLoss: 1.829\t Training accuracy: 59.375\n",
            "Epoch: 2\t Training Step: 1460\tLoss: 1.904\t Training accuracy: 51.562\n",
            "Epoch: 2\t Training Step: 1470\tLoss: 1.942\t Training accuracy: 51.562\n",
            "Epoch: 2\t Training Step: 1480\tLoss: 1.906\t Training accuracy: 60.938\n",
            "Epoch: 2\t Training Step: 1490\tLoss: 1.827\t Training accuracy: 59.375\n",
            "Epoch: 2\t Training Step: 1500\tLoss: 1.859\t Training accuracy: 51.562\n",
            "Epoch: 2\t Training Step: 1510\tLoss: 1.856\t Training accuracy: 60.938\n",
            "Epoch: 2\t Training Step: 1520\tLoss: 1.846\t Training accuracy: 53.125\n",
            "Epoch: 2\t Training Step: 1530\tLoss: 1.922\t Training accuracy: 50.000\n",
            "Epoch: 2\t Training Step: 1540\tLoss: 1.841\t Training accuracy: 54.688\n",
            "Epoch: 2\t Training Step: 1550\tLoss: 1.889\t Training accuracy: 51.562\n",
            "Epoch: 2\t Training Step: 1560\tLoss: 1.840\t Training accuracy: 53.125\n",
            "Epoch: 2\t Training Step: 1570\tLoss: 1.771\t Training accuracy: 65.625\n",
            "Epoch: 2\t Training Step: 1580\tLoss: 1.786\t Training accuracy: 60.938\n",
            "Epoch: 2\t Training Step: 1590\tLoss: 1.784\t Training accuracy: 54.688\n",
            "Epoch: 2\t Training Step: 1600\tLoss: 1.803\t Training accuracy: 57.812\n",
            "Epoch: 2\t Training Step: 1610\tLoss: 1.869\t Training accuracy: 50.000\n",
            "Epoch: 2\t Training Step: 1620\tLoss: 1.776\t Training accuracy: 60.938\n",
            "Epoch: 2\t Training Step: 1630\tLoss: 1.893\t Training accuracy: 43.750\n",
            "Epoch: 2\t Training Step: 1640\tLoss: 1.798\t Training accuracy: 57.812\n",
            "Epoch: 2\t Training Step: 1650\tLoss: 1.813\t Training accuracy: 51.562\n",
            "Epoch: 2\t Training Step: 1660\tLoss: 1.714\t Training accuracy: 59.375\n",
            "Epoch: 2\t Training Step: 1670\tLoss: 1.747\t Training accuracy: 73.438\n",
            "Epoch: 2\t Training Step: 1680\tLoss: 1.806\t Training accuracy: 54.688\n",
            "Epoch: 2\t Training Step: 1690\tLoss: 1.771\t Training accuracy: 57.812\n",
            "Epoch: 2\t Training Step: 1700\tLoss: 1.791\t Training accuracy: 54.688\n",
            "Epoch: 2\t Training Step: 1710\tLoss: 1.743\t Training accuracy: 56.250\n",
            "Epoch: 2\t Training Step: 1720\tLoss: 1.700\t Training accuracy: 71.875\n",
            "Epoch: 2\t Training Step: 1730\tLoss: 1.733\t Training accuracy: 59.375\n",
            "Epoch: 2\t Training Step: 1740\tLoss: 1.747\t Training accuracy: 53.125\n",
            "Epoch: 2\t Training Step: 1750\tLoss: 1.654\t Training accuracy: 62.500\n",
            "Epoch: 2\t Training Step: 1760\tLoss: 1.780\t Training accuracy: 62.500\n",
            "Epoch: 2\t Training Step: 1770\tLoss: 1.812\t Training accuracy: 48.438\n",
            "Epoch: 2\t Training Step: 1780\tLoss: 1.720\t Training accuracy: 56.250\n",
            "Epoch: 2\t Training Step: 1790\tLoss: 1.793\t Training accuracy: 57.812\n",
            "Epoch: 2\t Training Step: 1800\tLoss: 1.759\t Training accuracy: 57.812\n",
            "Epoch: 2\t Training Step: 1810\tLoss: 1.694\t Training accuracy: 60.938\n",
            "Epoch: 2\t Training Step: 1820\tLoss: 1.741\t Training accuracy: 62.500\n",
            "Epoch: 2\t Training Step: 1830\tLoss: 1.715\t Training accuracy: 60.938\n",
            "Epoch: 2\t Training Step: 1840\tLoss: 1.782\t Training accuracy: 57.812\n",
            "Epoch: 2\t Training Step: 1850\tLoss: 1.719\t Training accuracy: 64.062\n",
            "Epoch: 2\t Training Step: 1860\tLoss: 1.758\t Training accuracy: 57.812\n",
            "Epoch: 2\t Training Step: 1870\tLoss: 1.825\t Training accuracy: 50.000\n",
            "Epoch: 2 finished\n",
            "Epoch: 3\t Training Step: 1880\tLoss: 1.715\t Training accuracy: 60.938\n",
            "Epoch: 3\t Training Step: 1890\tLoss: 1.716\t Training accuracy: 57.812\n",
            "Epoch: 3\t Training Step: 1900\tLoss: 1.645\t Training accuracy: 64.062\n",
            "Epoch: 3\t Training Step: 1910\tLoss: 1.653\t Training accuracy: 65.625\n",
            "Epoch: 3\t Training Step: 1920\tLoss: 1.587\t Training accuracy: 64.062\n",
            "Epoch: 3\t Training Step: 1930\tLoss: 1.771\t Training accuracy: 53.125\n",
            "Epoch: 3\t Training Step: 1940\tLoss: 1.720\t Training accuracy: 53.125\n",
            "Epoch: 3\t Training Step: 1950\tLoss: 1.658\t Training accuracy: 59.375\n",
            "Epoch: 3\t Training Step: 1960\tLoss: 1.659\t Training accuracy: 57.812\n",
            "Epoch: 3\t Training Step: 1970\tLoss: 1.595\t Training accuracy: 64.062\n",
            "Epoch: 3\t Training Step: 1980\tLoss: 1.709\t Training accuracy: 59.375\n",
            "Epoch: 3\t Training Step: 1990\tLoss: 1.665\t Training accuracy: 60.938\n",
            "Epoch: 3\t Training Step: 2000\tLoss: 1.701\t Training accuracy: 57.812\n",
            "Epoch: 3\t Training Step: 2010\tLoss: 1.621\t Training accuracy: 68.750\n",
            "Epoch: 3\t Training Step: 2020\tLoss: 1.680\t Training accuracy: 57.812\n",
            "Epoch: 3\t Training Step: 2030\tLoss: 1.705\t Training accuracy: 56.250\n",
            "Epoch: 3\t Training Step: 2040\tLoss: 1.684\t Training accuracy: 62.500\n",
            "Epoch: 3\t Training Step: 2050\tLoss: 1.655\t Training accuracy: 65.625\n",
            "Epoch: 3\t Training Step: 2060\tLoss: 1.560\t Training accuracy: 68.750\n",
            "Epoch: 3\t Training Step: 2070\tLoss: 1.676\t Training accuracy: 59.375\n",
            "Epoch: 3\t Training Step: 2080\tLoss: 1.728\t Training accuracy: 56.250\n",
            "Epoch: 3\t Training Step: 2090\tLoss: 1.679\t Training accuracy: 57.812\n",
            "Epoch: 3\t Training Step: 2100\tLoss: 1.537\t Training accuracy: 64.062\n",
            "Epoch: 3\t Training Step: 2110\tLoss: 1.483\t Training accuracy: 70.312\n",
            "Epoch: 3\t Training Step: 2120\tLoss: 1.651\t Training accuracy: 48.438\n",
            "Epoch: 3\t Training Step: 2130\tLoss: 1.687\t Training accuracy: 56.250\n",
            "Epoch: 3\t Training Step: 2140\tLoss: 1.602\t Training accuracy: 59.375\n",
            "Epoch: 3\t Training Step: 2150\tLoss: 1.676\t Training accuracy: 59.375\n",
            "Epoch: 3\t Training Step: 2160\tLoss: 1.588\t Training accuracy: 56.250\n",
            "Epoch: 3\t Training Step: 2170\tLoss: 1.551\t Training accuracy: 67.188\n",
            "Epoch: 3\t Training Step: 2180\tLoss: 1.554\t Training accuracy: 59.375\n",
            "Epoch: 3\t Training Step: 2190\tLoss: 1.720\t Training accuracy: 48.438\n",
            "Epoch: 3\t Training Step: 2200\tLoss: 1.518\t Training accuracy: 67.188\n",
            "Epoch: 3\t Training Step: 2210\tLoss: 1.396\t Training accuracy: 73.438\n",
            "Epoch: 3\t Training Step: 2220\tLoss: 1.656\t Training accuracy: 48.438\n",
            "Epoch: 3\t Training Step: 2230\tLoss: 1.676\t Training accuracy: 53.125\n",
            "Epoch: 3\t Training Step: 2240\tLoss: 1.566\t Training accuracy: 56.250\n",
            "Epoch: 3\t Training Step: 2250\tLoss: 1.526\t Training accuracy: 60.938\n",
            "Epoch: 3\t Training Step: 2260\tLoss: 1.501\t Training accuracy: 68.750\n",
            "Epoch: 3\t Training Step: 2270\tLoss: 1.587\t Training accuracy: 53.125\n",
            "Epoch: 3\t Training Step: 2280\tLoss: 1.619\t Training accuracy: 59.375\n",
            "Epoch: 3\t Training Step: 2290\tLoss: 1.515\t Training accuracy: 64.062\n",
            "Epoch: 3\t Training Step: 2300\tLoss: 1.624\t Training accuracy: 57.812\n",
            "Epoch: 3\t Training Step: 2310\tLoss: 1.465\t Training accuracy: 67.188\n",
            "Epoch: 3\t Training Step: 2320\tLoss: 1.520\t Training accuracy: 60.938\n",
            "Epoch: 3\t Training Step: 2330\tLoss: 1.443\t Training accuracy: 70.312\n",
            "Epoch: 3\t Training Step: 2340\tLoss: 1.453\t Training accuracy: 60.938\n",
            "Epoch: 3\t Training Step: 2350\tLoss: 1.598\t Training accuracy: 57.812\n",
            "Epoch: 3\t Training Step: 2360\tLoss: 1.534\t Training accuracy: 65.625\n",
            "Epoch: 3\t Training Step: 2370\tLoss: 1.602\t Training accuracy: 50.000\n",
            "Epoch: 3\t Training Step: 2380\tLoss: 1.619\t Training accuracy: 60.938\n",
            "Epoch: 3\t Training Step: 2390\tLoss: 1.439\t Training accuracy: 68.750\n",
            "Epoch: 3\t Training Step: 2400\tLoss: 1.473\t Training accuracy: 75.000\n",
            "Epoch: 3\t Training Step: 2410\tLoss: 1.540\t Training accuracy: 65.625\n",
            "Epoch: 3\t Training Step: 2420\tLoss: 1.435\t Training accuracy: 60.938\n",
            "Epoch: 3\t Training Step: 2430\tLoss: 1.506\t Training accuracy: 56.250\n",
            "Epoch: 3\t Training Step: 2440\tLoss: 1.370\t Training accuracy: 73.438\n",
            "Epoch: 3\t Training Step: 2450\tLoss: 1.654\t Training accuracy: 57.812\n",
            "Epoch: 3\t Training Step: 2460\tLoss: 1.496\t Training accuracy: 59.375\n",
            "Epoch: 3\t Training Step: 2470\tLoss: 1.425\t Training accuracy: 67.188\n",
            "Epoch: 3\t Training Step: 2480\tLoss: 1.711\t Training accuracy: 51.562\n",
            "Epoch: 3\t Training Step: 2490\tLoss: 1.446\t Training accuracy: 67.188\n",
            "Epoch: 3\t Training Step: 2500\tLoss: 1.541\t Training accuracy: 53.125\n",
            "Epoch: 3\t Training Step: 2510\tLoss: 1.331\t Training accuracy: 71.875\n",
            "Epoch: 3\t Training Step: 2520\tLoss: 1.523\t Training accuracy: 65.625\n",
            "Epoch: 3\t Training Step: 2530\tLoss: 1.483\t Training accuracy: 71.875\n",
            "Epoch: 3\t Training Step: 2540\tLoss: 1.557\t Training accuracy: 56.250\n",
            "Epoch: 3\t Training Step: 2550\tLoss: 1.439\t Training accuracy: 68.750\n",
            "Epoch: 3\t Training Step: 2560\tLoss: 1.581\t Training accuracy: 64.062\n",
            "Epoch: 3\t Training Step: 2570\tLoss: 1.426\t Training accuracy: 64.062\n",
            "Epoch: 3\t Training Step: 2580\tLoss: 1.266\t Training accuracy: 76.562\n",
            "Epoch: 3\t Training Step: 2590\tLoss: 1.486\t Training accuracy: 64.062\n",
            "Epoch: 3\t Training Step: 2600\tLoss: 1.374\t Training accuracy: 60.938\n",
            "Epoch: 3\t Training Step: 2610\tLoss: 1.385\t Training accuracy: 68.750\n",
            "Epoch: 3\t Training Step: 2620\tLoss: 1.554\t Training accuracy: 59.375\n",
            "Epoch: 3\t Training Step: 2630\tLoss: 1.448\t Training accuracy: 64.062\n",
            "Epoch: 3\t Training Step: 2640\tLoss: 1.410\t Training accuracy: 59.375\n",
            "Epoch: 3\t Training Step: 2650\tLoss: 1.293\t Training accuracy: 70.312\n",
            "Epoch: 3\t Training Step: 2660\tLoss: 1.345\t Training accuracy: 65.625\n",
            "Epoch: 3\t Training Step: 2670\tLoss: 1.499\t Training accuracy: 64.062\n",
            "Epoch: 3\t Training Step: 2680\tLoss: 1.394\t Training accuracy: 67.188\n",
            "Epoch: 3\t Training Step: 2690\tLoss: 1.408\t Training accuracy: 68.750\n",
            "Epoch: 3\t Training Step: 2700\tLoss: 1.400\t Training accuracy: 62.500\n",
            "Epoch: 3\t Training Step: 2710\tLoss: 1.416\t Training accuracy: 64.062\n",
            "Epoch: 3\t Training Step: 2720\tLoss: 1.410\t Training accuracy: 68.750\n",
            "Epoch: 3\t Training Step: 2730\tLoss: 1.283\t Training accuracy: 71.875\n",
            "Epoch: 3\t Training Step: 2740\tLoss: 1.451\t Training accuracy: 59.375\n",
            "Epoch: 3\t Training Step: 2750\tLoss: 1.310\t Training accuracy: 75.000\n",
            "Epoch: 3\t Training Step: 2760\tLoss: 1.452\t Training accuracy: 56.250\n",
            "Epoch: 3\t Training Step: 2770\tLoss: 1.257\t Training accuracy: 68.750\n",
            "Epoch: 3\t Training Step: 2780\tLoss: 1.417\t Training accuracy: 67.188\n",
            "Epoch: 3\t Training Step: 2790\tLoss: 1.434\t Training accuracy: 67.188\n",
            "Epoch: 3\t Training Step: 2800\tLoss: 1.351\t Training accuracy: 64.062\n",
            "Epoch: 3\t Training Step: 2810\tLoss: 1.367\t Training accuracy: 62.500\n",
            "Epoch: 3 finished\n",
            "Epoch: 4\t Training Step: 2820\tLoss: 1.093\t Training accuracy: 78.125\n",
            "Epoch: 4\t Training Step: 2830\tLoss: 1.249\t Training accuracy: 70.312\n",
            "Epoch: 4\t Training Step: 2840\tLoss: 1.233\t Training accuracy: 68.750\n",
            "Epoch: 4\t Training Step: 2850\tLoss: 1.466\t Training accuracy: 54.688\n",
            "Epoch: 4\t Training Step: 2860\tLoss: 1.394\t Training accuracy: 62.500\n",
            "Epoch: 4\t Training Step: 2870\tLoss: 1.346\t Training accuracy: 64.062\n",
            "Epoch: 4\t Training Step: 2880\tLoss: 1.465\t Training accuracy: 57.812\n",
            "Epoch: 4\t Training Step: 2890\tLoss: 1.264\t Training accuracy: 70.312\n",
            "Epoch: 4\t Training Step: 2900\tLoss: 1.254\t Training accuracy: 73.438\n",
            "Epoch: 4\t Training Step: 2910\tLoss: 1.446\t Training accuracy: 56.250\n",
            "Epoch: 4\t Training Step: 2920\tLoss: 1.265\t Training accuracy: 68.750\n",
            "Epoch: 4\t Training Step: 2930\tLoss: 1.312\t Training accuracy: 70.312\n",
            "Epoch: 4\t Training Step: 2940\tLoss: 1.241\t Training accuracy: 79.688\n",
            "Epoch: 4\t Training Step: 2950\tLoss: 1.307\t Training accuracy: 70.312\n",
            "Epoch: 4\t Training Step: 2960\tLoss: 1.428\t Training accuracy: 62.500\n",
            "Epoch: 4\t Training Step: 2970\tLoss: 1.163\t Training accuracy: 70.312\n",
            "Epoch: 4\t Training Step: 2980\tLoss: 1.332\t Training accuracy: 65.625\n",
            "Epoch: 4\t Training Step: 2990\tLoss: 1.182\t Training accuracy: 70.312\n",
            "Epoch: 4\t Training Step: 3000\tLoss: 1.271\t Training accuracy: 64.062\n",
            "Epoch: 4\t Training Step: 3010\tLoss: 1.244\t Training accuracy: 68.750\n",
            "Epoch: 4\t Training Step: 3020\tLoss: 1.256\t Training accuracy: 73.438\n",
            "Epoch: 4\t Training Step: 3030\tLoss: 1.452\t Training accuracy: 64.062\n",
            "Epoch: 4\t Training Step: 3040\tLoss: 1.277\t Training accuracy: 67.188\n",
            "Epoch: 4\t Training Step: 3050\tLoss: 1.155\t Training accuracy: 81.250\n",
            "Epoch: 4\t Training Step: 3060\tLoss: 1.285\t Training accuracy: 68.750\n",
            "Epoch: 4\t Training Step: 3070\tLoss: 1.219\t Training accuracy: 73.438\n",
            "Epoch: 4\t Training Step: 3080\tLoss: 1.184\t Training accuracy: 70.312\n",
            "Epoch: 4\t Training Step: 3090\tLoss: 1.388\t Training accuracy: 65.625\n",
            "Epoch: 4\t Training Step: 3100\tLoss: 1.281\t Training accuracy: 71.875\n",
            "Epoch: 4\t Training Step: 3110\tLoss: 1.139\t Training accuracy: 73.438\n",
            "Epoch: 4\t Training Step: 3120\tLoss: 1.321\t Training accuracy: 57.812\n",
            "Epoch: 4\t Training Step: 3130\tLoss: 1.140\t Training accuracy: 70.312\n",
            "Epoch: 4\t Training Step: 3140\tLoss: 1.234\t Training accuracy: 75.000\n",
            "Epoch: 4\t Training Step: 3150\tLoss: 1.381\t Training accuracy: 64.062\n",
            "Epoch: 4\t Training Step: 3160\tLoss: 1.406\t Training accuracy: 64.062\n",
            "Epoch: 4\t Training Step: 3170\tLoss: 1.238\t Training accuracy: 70.312\n",
            "Epoch: 4\t Training Step: 3180\tLoss: 1.275\t Training accuracy: 57.812\n",
            "Epoch: 4\t Training Step: 3190\tLoss: 1.358\t Training accuracy: 65.625\n",
            "Epoch: 4\t Training Step: 3200\tLoss: 1.246\t Training accuracy: 67.188\n",
            "Epoch: 4\t Training Step: 3210\tLoss: 1.272\t Training accuracy: 67.188\n",
            "Epoch: 4\t Training Step: 3220\tLoss: 1.122\t Training accuracy: 79.688\n",
            "Epoch: 4\t Training Step: 3230\tLoss: 1.294\t Training accuracy: 70.312\n",
            "Epoch: 4\t Training Step: 3240\tLoss: 1.215\t Training accuracy: 62.500\n",
            "Epoch: 4\t Training Step: 3250\tLoss: 1.191\t Training accuracy: 68.750\n",
            "Epoch: 4\t Training Step: 3260\tLoss: 1.182\t Training accuracy: 76.562\n",
            "Epoch: 4\t Training Step: 3270\tLoss: 1.335\t Training accuracy: 59.375\n",
            "Epoch: 4\t Training Step: 3280\tLoss: 1.329\t Training accuracy: 65.625\n",
            "Epoch: 4\t Training Step: 3290\tLoss: 1.230\t Training accuracy: 67.188\n",
            "Epoch: 4\t Training Step: 3300\tLoss: 1.220\t Training accuracy: 73.438\n",
            "Epoch: 4\t Training Step: 3310\tLoss: 1.342\t Training accuracy: 60.938\n",
            "Epoch: 4\t Training Step: 3320\tLoss: 1.202\t Training accuracy: 65.625\n",
            "Epoch: 4\t Training Step: 3330\tLoss: 1.309\t Training accuracy: 60.938\n",
            "Epoch: 4\t Training Step: 3340\tLoss: 1.188\t Training accuracy: 73.438\n",
            "Epoch: 4\t Training Step: 3350\tLoss: 1.175\t Training accuracy: 71.875\n",
            "Epoch: 4\t Training Step: 3360\tLoss: 1.333\t Training accuracy: 57.812\n",
            "Epoch: 4\t Training Step: 3370\tLoss: 1.096\t Training accuracy: 75.000\n",
            "Epoch: 4\t Training Step: 3380\tLoss: 1.093\t Training accuracy: 76.562\n",
            "Epoch: 4\t Training Step: 3390\tLoss: 1.245\t Training accuracy: 70.312\n",
            "Epoch: 4\t Training Step: 3400\tLoss: 1.016\t Training accuracy: 84.375\n",
            "Epoch: 4\t Training Step: 3410\tLoss: 1.331\t Training accuracy: 60.938\n",
            "Epoch: 4\t Training Step: 3420\tLoss: 1.141\t Training accuracy: 71.875\n",
            "Epoch: 4\t Training Step: 3430\tLoss: 1.186\t Training accuracy: 68.750\n",
            "Epoch: 4\t Training Step: 3440\tLoss: 1.235\t Training accuracy: 68.750\n",
            "Epoch: 4\t Training Step: 3450\tLoss: 1.215\t Training accuracy: 70.312\n",
            "Epoch: 4\t Training Step: 3460\tLoss: 1.191\t Training accuracy: 62.500\n",
            "Epoch: 4\t Training Step: 3470\tLoss: 1.188\t Training accuracy: 62.500\n",
            "Epoch: 4\t Training Step: 3480\tLoss: 1.053\t Training accuracy: 76.562\n",
            "Epoch: 4\t Training Step: 3490\tLoss: 1.235\t Training accuracy: 71.875\n",
            "Epoch: 4\t Training Step: 3500\tLoss: 1.167\t Training accuracy: 65.625\n",
            "Epoch: 4\t Training Step: 3510\tLoss: 1.083\t Training accuracy: 73.438\n",
            "Epoch: 4\t Training Step: 3520\tLoss: 1.205\t Training accuracy: 62.500\n",
            "Epoch: 4\t Training Step: 3530\tLoss: 1.110\t Training accuracy: 75.000\n",
            "Epoch: 4\t Training Step: 3540\tLoss: 1.250\t Training accuracy: 60.938\n",
            "Epoch: 4\t Training Step: 3550\tLoss: 1.105\t Training accuracy: 73.438\n",
            "Epoch: 4\t Training Step: 3560\tLoss: 1.239\t Training accuracy: 70.312\n",
            "Epoch: 4\t Training Step: 3570\tLoss: 0.981\t Training accuracy: 82.812\n",
            "Epoch: 4\t Training Step: 3580\tLoss: 1.135\t Training accuracy: 67.188\n",
            "Epoch: 4\t Training Step: 3590\tLoss: 0.960\t Training accuracy: 76.562\n",
            "Epoch: 4\t Training Step: 3600\tLoss: 1.284\t Training accuracy: 65.625\n",
            "Epoch: 4\t Training Step: 3610\tLoss: 1.322\t Training accuracy: 65.625\n",
            "Epoch: 4\t Training Step: 3620\tLoss: 1.038\t Training accuracy: 81.250\n",
            "Epoch: 4\t Training Step: 3630\tLoss: 1.050\t Training accuracy: 70.312\n",
            "Epoch: 4\t Training Step: 3640\tLoss: 1.258\t Training accuracy: 59.375\n",
            "Epoch: 4\t Training Step: 3650\tLoss: 1.262\t Training accuracy: 60.938\n",
            "Epoch: 4\t Training Step: 3660\tLoss: 1.231\t Training accuracy: 64.062\n",
            "Epoch: 4\t Training Step: 3670\tLoss: 1.171\t Training accuracy: 70.312\n",
            "Epoch: 4\t Training Step: 3680\tLoss: 1.076\t Training accuracy: 78.125\n",
            "Epoch: 4\t Training Step: 3690\tLoss: 1.274\t Training accuracy: 67.188\n",
            "Epoch: 4\t Training Step: 3700\tLoss: 1.308\t Training accuracy: 60.938\n",
            "Epoch: 4\t Training Step: 3710\tLoss: 1.175\t Training accuracy: 70.312\n",
            "Epoch: 4\t Training Step: 3720\tLoss: 1.175\t Training accuracy: 70.312\n",
            "Epoch: 4\t Training Step: 3730\tLoss: 0.972\t Training accuracy: 79.688\n",
            "Epoch: 4\t Training Step: 3740\tLoss: 1.217\t Training accuracy: 70.312\n",
            "Epoch: 4\t Training Step: 3750\tLoss: 1.224\t Training accuracy: 67.188\n",
            "Epoch: 4 finished\n",
            "Epoch: 5\t Training Step: 3760\tLoss: 1.143\t Training accuracy: 65.625\n",
            "Epoch: 5\t Training Step: 3770\tLoss: 1.063\t Training accuracy: 71.875\n",
            "Epoch: 5\t Training Step: 3780\tLoss: 1.118\t Training accuracy: 64.062\n",
            "Epoch: 5\t Training Step: 3790\tLoss: 1.229\t Training accuracy: 64.062\n",
            "Epoch: 5\t Training Step: 3800\tLoss: 1.209\t Training accuracy: 67.188\n",
            "Epoch: 5\t Training Step: 3810\tLoss: 1.187\t Training accuracy: 70.312\n",
            "Epoch: 5\t Training Step: 3820\tLoss: 1.189\t Training accuracy: 65.625\n",
            "Epoch: 5\t Training Step: 3830\tLoss: 1.148\t Training accuracy: 67.188\n",
            "Epoch: 5\t Training Step: 3840\tLoss: 1.075\t Training accuracy: 67.188\n",
            "Epoch: 5\t Training Step: 3850\tLoss: 1.034\t Training accuracy: 73.438\n",
            "Epoch: 5\t Training Step: 3860\tLoss: 1.062\t Training accuracy: 71.875\n",
            "Epoch: 5\t Training Step: 3870\tLoss: 1.167\t Training accuracy: 59.375\n",
            "Epoch: 5\t Training Step: 3880\tLoss: 1.151\t Training accuracy: 67.188\n",
            "Epoch: 5\t Training Step: 3890\tLoss: 1.077\t Training accuracy: 78.125\n",
            "Epoch: 5\t Training Step: 3900\tLoss: 1.110\t Training accuracy: 64.062\n",
            "Epoch: 5\t Training Step: 3910\tLoss: 1.050\t Training accuracy: 70.312\n",
            "Epoch: 5\t Training Step: 3920\tLoss: 1.160\t Training accuracy: 62.500\n",
            "Epoch: 5\t Training Step: 3930\tLoss: 0.946\t Training accuracy: 78.125\n",
            "Epoch: 5\t Training Step: 3940\tLoss: 0.961\t Training accuracy: 73.438\n",
            "Epoch: 5\t Training Step: 3950\tLoss: 0.983\t Training accuracy: 79.688\n",
            "Epoch: 5\t Training Step: 3960\tLoss: 1.126\t Training accuracy: 67.188\n",
            "Epoch: 5\t Training Step: 3970\tLoss: 1.099\t Training accuracy: 71.875\n",
            "Epoch: 5\t Training Step: 3980\tLoss: 1.006\t Training accuracy: 71.875\n",
            "Epoch: 5\t Training Step: 3990\tLoss: 1.063\t Training accuracy: 70.312\n",
            "Epoch: 5\t Training Step: 4000\tLoss: 0.997\t Training accuracy: 78.125\n",
            "Epoch: 5\t Training Step: 4010\tLoss: 1.098\t Training accuracy: 65.625\n",
            "Epoch: 5\t Training Step: 4020\tLoss: 1.120\t Training accuracy: 65.625\n",
            "Epoch: 5\t Training Step: 4030\tLoss: 0.985\t Training accuracy: 73.438\n",
            "Epoch: 5\t Training Step: 4040\tLoss: 1.022\t Training accuracy: 67.188\n",
            "Epoch: 5\t Training Step: 4050\tLoss: 1.050\t Training accuracy: 73.438\n",
            "Epoch: 5\t Training Step: 4060\tLoss: 1.138\t Training accuracy: 76.562\n",
            "Epoch: 5\t Training Step: 4070\tLoss: 0.998\t Training accuracy: 71.875\n",
            "Epoch: 5\t Training Step: 4080\tLoss: 1.119\t Training accuracy: 68.750\n",
            "Epoch: 5\t Training Step: 4090\tLoss: 0.883\t Training accuracy: 82.812\n",
            "Epoch: 5\t Training Step: 4100\tLoss: 0.952\t Training accuracy: 67.188\n",
            "Epoch: 5\t Training Step: 4110\tLoss: 1.000\t Training accuracy: 67.188\n",
            "Epoch: 5\t Training Step: 4120\tLoss: 1.052\t Training accuracy: 70.312\n",
            "Epoch: 5\t Training Step: 4130\tLoss: 1.203\t Training accuracy: 64.062\n",
            "Epoch: 5\t Training Step: 4140\tLoss: 0.993\t Training accuracy: 76.562\n",
            "Epoch: 5\t Training Step: 4150\tLoss: 1.143\t Training accuracy: 65.625\n",
            "Epoch: 5\t Training Step: 4160\tLoss: 1.072\t Training accuracy: 68.750\n",
            "Epoch: 5\t Training Step: 4170\tLoss: 1.095\t Training accuracy: 70.312\n",
            "Epoch: 5\t Training Step: 4180\tLoss: 1.208\t Training accuracy: 68.750\n",
            "Epoch: 5\t Training Step: 4190\tLoss: 1.086\t Training accuracy: 67.188\n",
            "Epoch: 5\t Training Step: 4200\tLoss: 1.214\t Training accuracy: 67.188\n",
            "Epoch: 5\t Training Step: 4210\tLoss: 0.997\t Training accuracy: 73.438\n",
            "Epoch: 5\t Training Step: 4220\tLoss: 0.968\t Training accuracy: 75.000\n",
            "Epoch: 5\t Training Step: 4230\tLoss: 0.981\t Training accuracy: 78.125\n",
            "Epoch: 5\t Training Step: 4240\tLoss: 1.110\t Training accuracy: 67.188\n",
            "Epoch: 5\t Training Step: 4250\tLoss: 0.979\t Training accuracy: 75.000\n",
            "Epoch: 5\t Training Step: 4260\tLoss: 1.066\t Training accuracy: 65.625\n",
            "Epoch: 5\t Training Step: 4270\tLoss: 0.976\t Training accuracy: 78.125\n",
            "Epoch: 5\t Training Step: 4280\tLoss: 1.224\t Training accuracy: 59.375\n",
            "Epoch: 5\t Training Step: 4290\tLoss: 1.085\t Training accuracy: 68.750\n",
            "Epoch: 5\t Training Step: 4300\tLoss: 1.191\t Training accuracy: 76.562\n",
            "Epoch: 5\t Training Step: 4310\tLoss: 1.194\t Training accuracy: 56.250\n",
            "Epoch: 5\t Training Step: 4320\tLoss: 1.067\t Training accuracy: 76.562\n",
            "Epoch: 5\t Training Step: 4330\tLoss: 1.025\t Training accuracy: 67.188\n",
            "Epoch: 5\t Training Step: 4340\tLoss: 0.940\t Training accuracy: 68.750\n",
            "Epoch: 5\t Training Step: 4350\tLoss: 1.003\t Training accuracy: 76.562\n",
            "Epoch: 5\t Training Step: 4360\tLoss: 0.999\t Training accuracy: 76.562\n",
            "Epoch: 5\t Training Step: 4370\tLoss: 0.998\t Training accuracy: 70.312\n",
            "Epoch: 5\t Training Step: 4380\tLoss: 0.918\t Training accuracy: 76.562\n",
            "Epoch: 5\t Training Step: 4390\tLoss: 1.152\t Training accuracy: 70.312\n",
            "Epoch: 5\t Training Step: 4400\tLoss: 0.993\t Training accuracy: 70.312\n",
            "Epoch: 5\t Training Step: 4410\tLoss: 1.057\t Training accuracy: 70.312\n",
            "Epoch: 5\t Training Step: 4420\tLoss: 1.101\t Training accuracy: 70.312\n",
            "Epoch: 5\t Training Step: 4430\tLoss: 1.053\t Training accuracy: 70.312\n",
            "Epoch: 5\t Training Step: 4440\tLoss: 0.974\t Training accuracy: 78.125\n",
            "Epoch: 5\t Training Step: 4450\tLoss: 1.011\t Training accuracy: 68.750\n",
            "Epoch: 5\t Training Step: 4460\tLoss: 1.113\t Training accuracy: 71.875\n",
            "Epoch: 5\t Training Step: 4470\tLoss: 0.882\t Training accuracy: 84.375\n",
            "Epoch: 5\t Training Step: 4480\tLoss: 0.872\t Training accuracy: 73.438\n",
            "Epoch: 5\t Training Step: 4490\tLoss: 1.064\t Training accuracy: 71.875\n",
            "Epoch: 5\t Training Step: 4500\tLoss: 0.922\t Training accuracy: 75.000\n",
            "Epoch: 5\t Training Step: 4510\tLoss: 1.081\t Training accuracy: 67.188\n",
            "Epoch: 5\t Training Step: 4520\tLoss: 1.012\t Training accuracy: 65.625\n",
            "Epoch: 5\t Training Step: 4530\tLoss: 0.947\t Training accuracy: 76.562\n",
            "Epoch: 5\t Training Step: 4540\tLoss: 1.077\t Training accuracy: 65.625\n",
            "Epoch: 5\t Training Step: 4550\tLoss: 1.126\t Training accuracy: 67.188\n",
            "Epoch: 5\t Training Step: 4560\tLoss: 0.957\t Training accuracy: 78.125\n",
            "Epoch: 5\t Training Step: 4570\tLoss: 0.960\t Training accuracy: 75.000\n",
            "Epoch: 5\t Training Step: 4580\tLoss: 1.000\t Training accuracy: 78.125\n",
            "Epoch: 5\t Training Step: 4590\tLoss: 1.163\t Training accuracy: 64.062\n",
            "Epoch: 5\t Training Step: 4600\tLoss: 1.170\t Training accuracy: 62.500\n",
            "Epoch: 5\t Training Step: 4610\tLoss: 0.984\t Training accuracy: 70.312\n",
            "Epoch: 5\t Training Step: 4620\tLoss: 0.972\t Training accuracy: 70.312\n",
            "Epoch: 5\t Training Step: 4630\tLoss: 1.082\t Training accuracy: 75.000\n",
            "Epoch: 5\t Training Step: 4640\tLoss: 0.964\t Training accuracy: 76.562\n",
            "Epoch: 5\t Training Step: 4650\tLoss: 1.135\t Training accuracy: 56.250\n",
            "Epoch: 5\t Training Step: 4660\tLoss: 1.050\t Training accuracy: 71.875\n",
            "Epoch: 5\t Training Step: 4670\tLoss: 1.026\t Training accuracy: 71.875\n",
            "Epoch: 5\t Training Step: 4680\tLoss: 0.796\t Training accuracy: 75.000\n",
            "Epoch: 5\t Training Step: 4690\tLoss: 0.995\t Training accuracy: 37.500\n",
            "Epoch: 5 finished\n"
          ]
        }
      ]
    },
    {
      "cell_type": "markdown",
      "metadata": {
        "id": "lqvU31yPdyg0"
      },
      "source": [
        "Plot"
      ]
    },
    {
      "cell_type": "code",
      "metadata": {
        "id": "OVDKOYxTdzlj",
        "colab": {
          "base_uri": "https://localhost:8080/",
          "height": 573
        },
        "outputId": "5f386fce-07e3-4be4-fc70-685ec279c4a6"
      },
      "source": [
        "plt.figure()\n",
        "plt.title('Training loss until 5 epochs')\n",
        "plt.plot(np.arange(len(train_loss)), train_loss)\n",
        "plt.xlabel('Train Step')\n",
        "plt.ylabel('Train Loss')\n",
        "plt.show()\n",
        "#plt.savefig('./train_loss_result.png')\n",
        "\n",
        "plt.figure()\n",
        "plt.title('Training accuracy until 5 epochs')\n",
        "plt.plot(np.arange(len(train_accuracy)), train_accuracy)\n",
        "plt.xlabel('Train Step')\n",
        "plt.ylabel('Train Accuracy')\n",
        "\n",
        "plt.show()\n",
        "#plt.savefig('./train_accuracy_result.png')\n"
      ],
      "execution_count": 12,
      "outputs": [
        {
          "output_type": "display_data",
          "data": {
            "text/plain": [
              "<Figure size 432x288 with 1 Axes>"
            ],
            "image/png": "[encoded data removed]"
          },
          "metadata": {
            "needs_background": "light"
          }
        },
        {
          "output_type": "display_data",
          "data": {
            "text/plain": [
              "<Figure size 432x288 with 1 Axes>"
            ],
            "image/png": "[encoded data removed]"
          },
          "metadata": {
            "needs_background": "light"
          }
        }
      ]
    },
    {
      "cell_type": "markdown",
      "metadata": {
        "id": "gJDq0mlld1EE"
      },
      "source": [
        "Evaluation"
      ]
    },
    {
      "cell_type": "code",
      "metadata": {
        "id": "m8gYyaqRfXWl",
        "colab": {
          "base_uri": "https://localhost:8080/"
        },
        "outputId": "93159eb8-032f-42f8-faf9-2d1c3a5441f8"
      },
      "source": [
        "with torch.no_grad():\n",
        "    model.eval()\n",
        "    correct = 0\n",
        "   \n",
        "    for data, target in test_loader:\n",
        "        data, target = Variable(data), Variable(target)\n",
        "        data = data.to(device)\n",
        "        target = target.to(device)\n",
        "        output = model(data)\n",
        "        prediction = output.data.max(1)[1]\n",
        "        correct += prediction.eq(target.data).sum()\n",
        "\n",
        "print('\\nTest set: Accuracy: {:.2f}%'.format(100. * correct / len(test_loader.dataset)))"
      ],
      "execution_count": 13,
      "outputs": [
        {
          "output_type": "stream",
          "name": "stdout",
          "text": [
            "\n",
            "Test set: Accuracy: 83.66%\n"
          ]
        }
      ]
    },
    {
      "cell_type": "code",
      "source": [
        ""
      ],
      "metadata": {
        "id": "6gafHNG_ZWH9"
      },
      "execution_count": null,
      "outputs": []
    }
  ]
}